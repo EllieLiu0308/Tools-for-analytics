{
 "cells": [
  {
   "cell_type": "markdown",
   "id": "9670c0bd",
   "metadata": {},
   "source": [
    "Please read the following instructions thoroughly. Neglecting to do so may result in missed points.\n",
    "\n",
    "### Preamble\n",
    "**Reminder**: Homeworks are due by 7:00PM ET on Sundays.\n",
    "\n",
    "Before you turn this problem set in, make sure everything runs as expected. First, **restart the kernel** (in the menubar, select Kernel$\\rightarrow$Restart) and then **run all cells** (in the menubar, select Cell$\\rightarrow$Run All).\n",
    "\n",
    "### Naming conventions\n",
    "Be sure the filename of your notebook is in the following form:\n",
    "\n",
    "    <uni>_<assignment>_<details [optional]>.<extension>\n",
    "    \n",
    "For example:\n",
    "\n",
    "    lr3086_hw01.ipynb\n",
    "    lr3086_hw01_complete.ipynb\n",
    "    LR3086_HW01.ipynb\n",
    "    \n",
    "To rename a notebook, in the menubar, select File$\\rightarrow$Rename. The extension for notebook files, `.ipynb`, will already be appended to the filename, but will be hidden from view within the notebook.\n",
    "    \n",
    "This naming format allows for autograding of all assignments. If your files are not named with this format, you should expect a grade of zero for the assignment.\n",
    "\n",
    "Courseworks may rename your file to something like `lr3086_hw0-1.ipynb` if you resubmit your assignment. This is perfectly fine.\n",
    "\n",
    "### What Format To Submit In\n",
    "\n",
    "Most homeworks are in Jupyter notebooks. Once you've finished your homework, unless specified otherwise, please download your work as an `.ipynb` file to your local machine, then upload it to Courseworks when complete (in the menubar, select File$\\rightarrow$Download as$\\rightarrow$Notebook).\n",
    "\n",
    "**Failure to submit a Jupyter notebook will result in a grade of zero for the assignment.**\n",
    "\n",
    "### Grading\n",
    "\n",
    "Possible points on late assignments are deducted by 50% for each day they are late. For example, if you get 80% of the total possible credits on a homework but hand in that homework a day late, you would get 40%. Assignments two days late get zero points.\n",
    "\n",
    "Once solutions are posted and graded assignments are handed back, students have 1 week to bring their grading discrepancies to a CA for consideration of possible grading errors.\n",
    "\n",
    "Because grading is automated, please delete (or comment out) the `raise NotImplmeneted` code before attempting a problem.\n",
    "\n",
    "Empty un-editable cells in an assignment are there for a reason. They will be filled with tests by the automatic grader. Please do not attempt to remove them.\n",
    "\n",
    "### Getting Help\n",
    "\n",
    "Asking for help is a great way to increase your chance of success. However there are some rules. When asking for help (especially from a fellow student), *you can show your helper your code but you can not view theirs*. You work needs to be your own. You can not post screenshots of your current work to Ed Discussions or other tools used for getting help.\n",
    "\n",
    "If you need to reach out to a CA for help, please do so via Ed Discussions and not via email. Answers given via Ed Discussions will help you as well as other students. Thus, emails will always have a lower priority for response than Ed Discussions questions. If you do email the CA, please make a note of what section you are in. This helps us identify you in Courseworks faster.\n",
    "\n",
    "Finally, if you do not get a repsonse from a CA within 48 hours, you may email the professor."
   ]
  },
  {
   "cell_type": "markdown",
   "id": "7f902806",
   "metadata": {},
   "source": [
    "---"
   ]
  },
  {
   "cell_type": "markdown",
   "id": "e47c38d2",
   "metadata": {
    "deletable": false,
    "editable": false,
    "nbgrader": {
     "cell_type": "markdown",
     "checksum": "02e741c31f240612714d6aa81031ec9d",
     "grade": false,
     "grade_id": "cell-0227293090a7ba6e",
     "locked": true,
     "schema_version": 3,
     "solution": false,
     "task": false
    }
   },
   "source": [
    "# Homework 6: Regular Expressions\n",
    "\n",
    "Total questions: 6 <br/>\n",
    "Total points: 7"
   ]
  },
  {
   "cell_type": "markdown",
   "id": "1d9605d3",
   "metadata": {
    "deletable": false,
    "editable": false,
    "nbgrader": {
     "cell_type": "markdown",
     "checksum": "675ad75cd8754cfd41163c4023cec916",
     "grade": false,
     "grade_id": "cell-70eb0d398c811a92",
     "locked": true,
     "schema_version": 3,
     "solution": false,
     "task": false
    }
   },
   "source": [
    "## How to complete this homework\n",
    "\n",
    "**For the first 5 questions**: In each answer, you'll be asked to define a single variable called `pattern` which should match the given prompt. **Note**: we're _not_ defining functions, just the variable `pattern`.\n",
    "\n",
    "As an example, if asked for a regular expression that matches the letter a contained anywhere within a string, you should write:\n",
    "\n",
    "```py\n",
    "pattern = \"a\"\n",
    "```\n",
    "\n",
    "as the sole contents of the cell. Recall that if you wish to use character classes like `\\w`, you likely will want to use a raw string like `r\"foo\\w\\wbar\"` so that you don't need to escape the slashes twice."
   ]
  },
  {
   "cell_type": "code",
   "execution_count": 1,
   "id": "b5573d6b",
   "metadata": {},
   "outputs": [],
   "source": [
    "# Execute this cell before completing the questions\n",
    "\n",
    "import re"
   ]
  },
  {
   "cell_type": "markdown",
   "id": "404b896e",
   "metadata": {
    "deletable": false,
    "editable": false,
    "nbgrader": {
     "cell_type": "markdown",
     "checksum": "1be1145a4904ab58c4b8366a10c4081f",
     "grade": false,
     "grade_id": "cell-6390f2880064f074",
     "locked": true,
     "schema_version": 3,
     "solution": false,
     "task": false
    }
   },
   "source": [
    "## Question 1\n",
    "\n",
    "Write a regular expression pattern which matches the substring \"cat\" anywhere within a string. Your pattern should also successfully match the word \"caterpillar\" as well as \"scathing\". Note that casing is important.\n",
    "\n",
    "[1 point]"
   ]
  },
  {
   "cell_type": "code",
   "execution_count": 2,
   "id": "7f8870fc",
   "metadata": {
    "deletable": false,
    "nbgrader": {
     "cell_type": "code",
     "checksum": "6625184b4ff9630ebadf8e2ed57f0113",
     "grade": false,
     "grade_id": "cell-4215ecfba4aa763f",
     "locked": false,
     "schema_version": 3,
     "solution": true,
     "task": false
    }
   },
   "outputs": [],
   "source": [
    "# YOUR CODE HERE\n",
    "pattern = r\".*cat.*\""
   ]
  },
  {
   "cell_type": "code",
   "execution_count": 3,
   "id": "23135fe3",
   "metadata": {
    "deletable": false,
    "editable": false,
    "nbgrader": {
     "cell_type": "code",
     "checksum": "b19788a0129d985b2847ffa1155988eb",
     "grade": true,
     "grade_id": "cell-b7a54942fb1680b1",
     "locked": true,
     "points": 0,
     "schema_version": 3,
     "solution": false,
     "task": false
    }
   },
   "outputs": [],
   "source": [
    "### BEGIN TESTS\n",
    "# Ensure that `pattern` exists\n",
    "try:\n",
    "    pattern\n",
    "except NameError:\n",
    "    raise AssertionError(\"The variable 'pattern' is not defined\") from None\n",
    "else:\n",
    "    assert True\n",
    "### END TESTS"
   ]
  },
  {
   "cell_type": "code",
   "execution_count": 4,
   "id": "16503edd",
   "metadata": {
    "deletable": false,
    "editable": false,
    "nbgrader": {
     "cell_type": "code",
     "checksum": "a216a2f2a78296b58d280a46b34c876a",
     "grade": true,
     "grade_id": "cell-b92229c1be2c43b8",
     "locked": true,
     "points": 0.25,
     "schema_version": 3,
     "solution": false,
     "task": false
    }
   },
   "outputs": [],
   "source": [
    "### BEGIN TESTS\n",
    "# Ensure `pattern` fully matches\n",
    "assert re.search(pattern, \"cat\")\n",
    "### END TESTS"
   ]
  },
  {
   "cell_type": "code",
   "execution_count": 5,
   "id": "1190103c",
   "metadata": {
    "deletable": false,
    "editable": false,
    "nbgrader": {
     "cell_type": "code",
     "checksum": "de6a4b6267f6be86fd6d248cb7010b7b",
     "grade": true,
     "grade_id": "cell-a49dc667e28e368f",
     "locked": true,
     "points": 0.25,
     "schema_version": 3,
     "solution": false,
     "task": false
    }
   },
   "outputs": [],
   "source": [
    "### BEGIN TESTS\n",
    "# Ensure `pattern` partially matches\n",
    "assert re.search(pattern, \"caterpillar\")\n",
    "### END TESTS"
   ]
  },
  {
   "cell_type": "code",
   "execution_count": 6,
   "id": "c745202c",
   "metadata": {
    "deletable": false,
    "editable": false,
    "nbgrader": {
     "cell_type": "code",
     "checksum": "56d95a1d2012f160d2aed5d426a5cb4c",
     "grade": true,
     "grade_id": "cell-0b6fcc066144f157",
     "locked": true,
     "points": 0.25,
     "schema_version": 3,
     "solution": false,
     "task": false
    }
   },
   "outputs": [],
   "source": [
    "### BEGIN TESTS\n",
    "# Ensure `pattern` matches strings that have `cat` but do not start with `cat`\n",
    "assert re.search(pattern, \"scathing\")\n",
    "assert re.search(pattern, \"The cat jumped on the bed.\")\n",
    "### END TESTS"
   ]
  },
  {
   "cell_type": "code",
   "execution_count": 7,
   "id": "8cab2c9d",
   "metadata": {
    "deletable": false,
    "editable": false,
    "nbgrader": {
     "cell_type": "code",
     "checksum": "0d422a3c03e060a9b73abeea911aa079",
     "grade": true,
     "grade_id": "cell-ddcc96e15fcae904",
     "locked": true,
     "points": 0.25,
     "schema_version": 3,
     "solution": false,
     "task": false
    }
   },
   "outputs": [],
   "source": [
    "### BEGIN TESTS\n",
    "# Ensure `pattern` does not match strings as expected\n",
    "assert not re.search(pattern, \"dog\")\n",
    "assert not re.search(pattern, \"aca\")\n",
    "assert not re.search(pattern, \"ca\")\n",
    "assert not re.search(pattern, \"at\")\n",
    "assert not re.search(pattern, \"Cat\")\n",
    "### END TESTS"
   ]
  },
  {
   "cell_type": "markdown",
   "id": "6c7417b5",
   "metadata": {
    "deletable": false,
    "editable": false,
    "nbgrader": {
     "cell_type": "markdown",
     "checksum": "d697ffbaca073545cdfb8bb066754d04",
     "grade": false,
     "grade_id": "cell-c6c99e3abb7679a5",
     "locked": true,
     "schema_version": 3,
     "solution": false,
     "task": false
    }
   },
   "source": [
    "## Question 2\n",
    "\n",
    "Write a regular expression which matches the substring \"cat\" at the beginning of a string, and not elsewhere. Your pattern should also successfully match the word \"caterpillar\" at the beginning of a string.\n",
    "\n",
    "[1 point]"
   ]
  },
  {
   "cell_type": "code",
   "execution_count": 8,
   "id": "e2a9adcd",
   "metadata": {
    "deletable": false,
    "nbgrader": {
     "cell_type": "code",
     "checksum": "066938b61996a5a8e17db68f1d00d1d2",
     "grade": false,
     "grade_id": "cell-f07df74b184bf808",
     "locked": false,
     "schema_version": 3,
     "solution": true,
     "task": false
    }
   },
   "outputs": [],
   "source": [
    "pattern = r\"^cat\""
   ]
  },
  {
   "cell_type": "code",
   "execution_count": 9,
   "id": "f8585194",
   "metadata": {
    "deletable": false,
    "editable": false,
    "nbgrader": {
     "cell_type": "code",
     "checksum": "53207d1066789875454d4d7aba76bf2e",
     "grade": true,
     "grade_id": "cell-9b8b67c776e84aef",
     "locked": true,
     "points": 0.5,
     "schema_version": 3,
     "solution": false,
     "task": false
    }
   },
   "outputs": [],
   "source": [
    "### BEGIN TESTS\n",
    "# Ensure `pattern` matches beginning of string\n",
    "assert re.search(pattern, \"cat\")\n",
    "assert re.search(pattern, \"caterpillar\")\n",
    "### END TESTS"
   ]
  },
  {
   "cell_type": "code",
   "execution_count": 10,
   "id": "6c6c4710",
   "metadata": {
    "deletable": false,
    "editable": false,
    "nbgrader": {
     "cell_type": "code",
     "checksum": "413bc80fded143c7c64dd1a555bd1279",
     "grade": true,
     "grade_id": "cell-2648975c8550ad70",
     "locked": true,
     "points": 0.5,
     "schema_version": 3,
     "solution": false,
     "task": false
    }
   },
   "outputs": [],
   "source": [
    "### BEGIN TESTS\n",
    "# Ensure `pattern` does not match where `cat` does not start a string\n",
    "assert not re.search(pattern, \"scathing\")\n",
    "assert not re.search(pattern, \"The cat jumped on the bed.\")\n",
    "### END TESTS"
   ]
  },
  {
   "cell_type": "markdown",
   "id": "d89b8048",
   "metadata": {
    "deletable": false,
    "editable": false,
    "nbgrader": {
     "cell_type": "markdown",
     "checksum": "ef598e4243b936172a7baf45b8df45e4",
     "grade": false,
     "grade_id": "cell-aa1b87813fba898a",
     "locked": true,
     "schema_version": 3,
     "solution": false,
     "task": false
    }
   },
   "source": [
    "## Question 3\n",
    "\n",
    "In class, we mostly used the `re.search` function. The `re` module has an additional function called `re.findall` which, rather than finding only one place in a string that matches a given pattern, finds all of the places which match.\n",
    "\n",
    "Given a string like:\n",
    "\n",
    "```py\n",
    "example = \"\"\"\n",
    "2010-04-29 1984 ABC-123!\n",
    "Feb 18th, 2018. \n",
    "888-27-8949 2048-07-07\n",
    "\"\"\"\n",
    "```\n",
    "\n",
    "write a pattern which matches dates within the string which look like YYYY-MM-DD.\n",
    "\n",
    "Your answer should again be a single variable `pattern`, but such that `re.findall(pattern, example)` returns `[\"2010-04-29\", \"2048-07-07\"]` which are the two matching parts of the string.\n",
    "\n",
    "[1 point]"
   ]
  },
  {
   "cell_type": "code",
   "execution_count": 11,
   "id": "5bc133a4",
   "metadata": {
    "deletable": false,
    "nbgrader": {
     "cell_type": "code",
     "checksum": "11c07a67af3514eb9536d2b8ffb2d8d1",
     "grade": false,
     "grade_id": "cell-6572b7193413bba5",
     "locked": false,
     "schema_version": 3,
     "solution": true,
     "task": false
    }
   },
   "outputs": [],
   "source": [
    "pattern = r\"\\d{4}-\\d{2}-\\d{2}\""
   ]
  },
  {
   "cell_type": "code",
   "execution_count": 12,
   "id": "0a11cae2",
   "metadata": {
    "deletable": false,
    "editable": false,
    "nbgrader": {
     "cell_type": "code",
     "checksum": "d57dc92ed1ccce9551016e789f267211",
     "grade": true,
     "grade_id": "cell-56c8d107244c0f73",
     "locked": true,
     "points": 1,
     "schema_version": 3,
     "solution": false,
     "task": false
    }
   },
   "outputs": [],
   "source": [
    "### BEGIN TESTS\n",
    "# Ensure `pattern` finds 2 dates in string\n",
    "string = \"\"\"\n",
    "2010-04-29 1984 ABC-123!\n",
    "Feb 18th, 2018. \n",
    "888-27-8949 2048-07-07\n",
    "\"\"\"\n",
    "expected = ['2010-04-29', '2048-07-07']\n",
    "actual = re.findall(pattern, string)\n",
    "assert expected == actual, f\"Expected '{expected}', got '{actual}'\"\n",
    "### END TESTS"
   ]
  },
  {
   "cell_type": "markdown",
   "id": "b9898257",
   "metadata": {
    "deletable": false,
    "editable": false,
    "nbgrader": {
     "cell_type": "markdown",
     "checksum": "6a53748a2c38bb123a96d58eb40b1fb0",
     "grade": false,
     "grade_id": "cell-b8903847dc77a6e1",
     "locked": true,
     "schema_version": 3,
     "solution": false,
     "task": false
    }
   },
   "source": [
    "## Question 4\n",
    "\n",
    "A building manager has textual logs of problems occuring in apartment units it manages.\n",
    "\n",
    "An individual message looks like:\n",
    "\n",
    "    Problem reported in apartment 3F with plumbing.\n",
    "\n",
    "or\n",
    "\n",
    "    Problem in apartment 12a with sink.\n",
    "\n",
    "or\n",
    "\n",
    "    Noise reported from apartment 8g.\n",
    "\n",
    "or\n",
    "\n",
    "    An apartment owner reports that apartment 4A has been broken into.\n",
    "\n",
    "Use a pattern with a capture group to extract the apartment information from the string -- include both the floor and unit, so for the first example, your pattern should have `re.search(pattern).group(1)` produce `\"3F\"`; and for the last one, `\"4A\".`\n",
    "\n",
    "If the message does not include an apartment unit, you should not match anything.\n",
    "\n",
    "[1 point]"
   ]
  },
  {
   "cell_type": "code",
   "execution_count": 13,
   "id": "3a3f09f3",
   "metadata": {
    "deletable": false,
    "nbgrader": {
     "cell_type": "code",
     "checksum": "e1c889aca6b6e00a3b65debbac3dddae",
     "grade": false,
     "grade_id": "cell-8f3ec6bfcd6dcf77",
     "locked": false,
     "schema_version": 3,
     "solution": true,
     "task": false
    }
   },
   "outputs": [],
   "source": [
    "pattern = r\"apartment (\\d+[A-Za-z]?)\""
   ]
  },
  {
   "cell_type": "code",
   "execution_count": 14,
   "id": "87afb348",
   "metadata": {
    "deletable": false,
    "editable": false,
    "nbgrader": {
     "cell_type": "code",
     "checksum": "22a40afda19fb20c72cfb26075fae1c0",
     "grade": true,
     "grade_id": "cell-e0a4a3088fe5c5b5",
     "locked": true,
     "points": 0.25,
     "schema_version": 3,
     "solution": false,
     "task": false
    }
   },
   "outputs": [],
   "source": [
    "### BEGIN TESTS\n",
    "# Ensure `pattern` returns a result\n",
    "string = \"Problem reported in apartment 3F with plumbing.\"\n",
    "result = re.search(pattern, string)\n",
    "assert result is not None, \"Expected a result, got None\"\n",
    "\n",
    "# Ensure `pattern` returns the desired result\n",
    "expected = \"3F\"\n",
    "actual = result.group(1)\n",
    "assert expected == actual, f\"Expected '{expected}', got '{actual}'\"\n",
    "### END TESTS"
   ]
  },
  {
   "cell_type": "code",
   "execution_count": 15,
   "id": "0c14e48d",
   "metadata": {
    "deletable": false,
    "editable": false,
    "nbgrader": {
     "cell_type": "code",
     "checksum": "56f6ce447a95aa348bfcdab6f31fa997",
     "grade": true,
     "grade_id": "cell-bb657623fc68c9dd",
     "locked": true,
     "points": 0.25,
     "schema_version": 3,
     "solution": false,
     "task": false
    }
   },
   "outputs": [],
   "source": [
    "### BEGIN TESTS\n",
    "# Ensure `pattern` returns a result\n",
    "string = \"Problem in apartment 12a with sink.\"\n",
    "result = re.search(pattern, string)\n",
    "assert result is not None, \"Expected a result, got None\"\n",
    "\n",
    "# Ensure `pattern` returns the desired result\n",
    "expected = \"12a\"\n",
    "actual = result.group(1)\n",
    "assert expected == actual, f\"Expected '{expected}', got '{actual}'\"\n",
    "### END TESTS"
   ]
  },
  {
   "cell_type": "code",
   "execution_count": 16,
   "id": "fa57d8d5",
   "metadata": {
    "deletable": false,
    "editable": false,
    "nbgrader": {
     "cell_type": "code",
     "checksum": "aee14de43a553b0ebd2876727dc89360",
     "grade": true,
     "grade_id": "cell-28eeacdcb1be3574",
     "locked": true,
     "points": 0.25,
     "schema_version": 3,
     "solution": false,
     "task": false
    }
   },
   "outputs": [],
   "source": [
    "### BEGIN TESTS\n",
    "# Ensure `pattern` returns a result\n",
    "string = \"An apartment owner reports that apartment 4A has been broken into.\"\n",
    "result = re.search(pattern, string)\n",
    "assert result is not None, \"Expected a result, got None\"\n",
    "\n",
    "# Ensure `pattern` returns the desired result\n",
    "expected = \"4A\"\n",
    "actual = result.group(1)\n",
    "assert expected == actual, f\"Expected '{expected}', got '{actual}'\"\n",
    "### END TESTS"
   ]
  },
  {
   "cell_type": "code",
   "execution_count": 17,
   "id": "45778ba8",
   "metadata": {
    "deletable": false,
    "editable": false,
    "nbgrader": {
     "cell_type": "code",
     "checksum": "0fb50bb1de05b26c8318826c8d0bc06f",
     "grade": true,
     "grade_id": "cell-0a079abd72adb82c",
     "locked": true,
     "points": 0.25,
     "schema_version": 3,
     "solution": false,
     "task": false
    }
   },
   "outputs": [],
   "source": [
    "### BEGIN TESTS\n",
    "# Ensure the negative case\n",
    "assert re.search(pattern, \"No incidents.\") is None\n",
    "### END TESTS"
   ]
  },
  {
   "cell_type": "markdown",
   "id": "af1d2852",
   "metadata": {
    "deletable": false,
    "editable": false,
    "nbgrader": {
     "cell_type": "markdown",
     "checksum": "e77453d82dd6ab03adfbfdf01c63de34",
     "grade": false,
     "grade_id": "cell-04a4ff0d740d4ec8",
     "locked": true,
     "schema_version": 3,
     "solution": false,
     "task": false
    }
   },
   "source": [
    "## Question 5\n",
    "\n",
    "Write a pattern which matches strings containing odd numbers anywhere within it, but not even ones.\n",
    "\n",
    "[1 point]"
   ]
  },
  {
   "cell_type": "code",
   "execution_count": 18,
   "id": "25cd6b83",
   "metadata": {
    "deletable": false,
    "nbgrader": {
     "cell_type": "code",
     "checksum": "e7b458ce09ee075be63187c296c509e0",
     "grade": false,
     "grade_id": "cell-45fe83c338be660d",
     "locked": false,
     "schema_version": 3,
     "solution": true,
     "task": false
    }
   },
   "outputs": [],
   "source": [
    "pattern = r'.*[13579].*'"
   ]
  },
  {
   "cell_type": "code",
   "execution_count": 19,
   "id": "8a140b9f",
   "metadata": {
    "deletable": false,
    "editable": false,
    "nbgrader": {
     "cell_type": "code",
     "checksum": "f0bea501e10031f97b27c10040d72ead",
     "grade": true,
     "grade_id": "cell-cab2c19222bddaf2",
     "locked": true,
     "points": 0.25,
     "schema_version": 3,
     "solution": false,
     "task": false
    }
   },
   "outputs": [],
   "source": [
    "### BEGIN TESTS\n",
    "# Ensure single digit odd number matches\n",
    "assert re.search(pattern, \"The number 1 matches\")\n",
    "### END TESTS"
   ]
  },
  {
   "cell_type": "code",
   "execution_count": 20,
   "id": "9ed2c7dd",
   "metadata": {
    "deletable": false,
    "editable": false,
    "nbgrader": {
     "cell_type": "code",
     "checksum": "586f306ff283600abfb9b8693040f488",
     "grade": true,
     "grade_id": "cell-31afb06827a674af",
     "locked": true,
     "points": 0.25,
     "schema_version": 3,
     "solution": false,
     "task": false
    }
   },
   "outputs": [],
   "source": [
    "### BEGIN TESTS\n",
    "# Ensure multi-digit with an odd number matches\n",
    "assert re.search(pattern, \"25 does match\")\n",
    "### END TESTS"
   ]
  },
  {
   "cell_type": "code",
   "execution_count": 21,
   "id": "61c846ad",
   "metadata": {
    "deletable": false,
    "editable": false,
    "nbgrader": {
     "cell_type": "code",
     "checksum": "4a842a8d219b6784481daf96a92b9f77",
     "grade": true,
     "grade_id": "cell-e99b7e5763951347",
     "locked": true,
     "points": 0.25,
     "schema_version": 3,
     "solution": false,
     "task": false
    }
   },
   "outputs": [],
   "source": [
    "### BEGIN TESTS\n",
    "# Ensure single digit even number does not match\n",
    "assert not re.search(pattern, \"2 does not match\")\n",
    "### END TESTS"
   ]
  },
  {
   "cell_type": "code",
   "execution_count": 22,
   "id": "b86028c7",
   "metadata": {
    "deletable": false,
    "editable": false,
    "nbgrader": {
     "cell_type": "code",
     "checksum": "80e4f8b01695f81485a7ccbcaff849e7",
     "grade": true,
     "grade_id": "cell-337df86bd0f2a8ad",
     "locked": true,
     "points": 0.25,
     "schema_version": 3,
     "solution": false,
     "task": false
    }
   },
   "outputs": [],
   "source": [
    "### BEGIN TESTS\n",
    "# Ensure multi-digit with no odd numbers does not match\n",
    "assert not re.search(pattern, \"44 does not match\")\n",
    "### END TESTS"
   ]
  },
  {
   "cell_type": "markdown",
   "id": "f90d523b",
   "metadata": {
    "deletable": false,
    "editable": false,
    "nbgrader": {
     "cell_type": "markdown",
     "checksum": "c37c7826c59530d8d1c0967249ea6105",
     "grade": false,
     "grade_id": "cell-3d12fdda7c9afca9",
     "locked": true,
     "schema_version": 3,
     "solution": false,
     "task": false
    }
   },
   "source": [
    "## Question 6\n",
    "\n",
    "Pretend you are an accountant, and need to process earnings reports for three months at a time for a given year. These reports are CSV files that are on a server, and you will have to download. But first, you need to find the particular CSV files that you care about.\n",
    "\n",
    "You are given a `list` of URLs where some of them are URLs to CSV files, some of them are not. Of the URLs that are CSV files, the filenames contain the date in them. An example of input of URLs:\n",
    "\n",
    "```python\n",
    "[\n",
    "    \"https://example.com/dashboard/reports_2021_10.html\",\n",
    "    \"https://example.com/reports/cash_flow_2021_10.csv\",\n",
    "    \"https://example.com/reports/earnings_2021_10.csv\",\n",
    "    \"https://example.com/dashboard/reports_2021_11.html\",\n",
    "    \"https://example.com/reports/cash_flow_2021_11.csv\",\n",
    "    \"https://example.com/reports/earnings_2021_11.csv\",\n",
    "    \"https://example.com/dashboard/reports_2021_12.html\",\n",
    "    \"https://example.com/reports/cash_flow_2021_12.csv\",\n",
    "    \"https://example.com/reports/earnings_2021_12.csv\",\n",
    "    \"https://example.com/dashboard/reports_2022_01.html\",\n",
    "    \"https://example.com/reports/cash_flow_2022_01.csv\",\n",
    "    \"https://example.com/reports/earnings_2022_01.csv\",\n",
    "    \"https://example.com/dashboard/reports_2022_02.html\",\n",
    "    \"https://example.com/reports/cash_flow_2022_02.csv\",\n",
    "    \"https://example.com/reports/earnings_2022_02.csv\",\n",
    "    \"https://example.com/dashboard/reports_2022_03.html\",\n",
    "    \"https://example.com/reports/cash_flow_2022_03.csv\",\n",
    "    \"https://example.com/reports/earnings_2022_03.csv\",\n",
    "    \"https://example.com/dashboard/reports_2022_04.html\",\n",
    "    \"https://example.com/reports/cash_flow_2022_04.csv\",\n",
    "    \"https://example.com/reports/earnings_2022_04.csv\",\n",
    "    \"https://example.com/dashboard/reports_2022_05.html\",\n",
    "    \"https://example.com/reports/cash_flow_2022_05.csv\",\n",
    "    \"https://example.com/reports/earnings_2022_05.csv\",\n",
    "    \"https://example.com/dashboard/reports_2022_06.html\",\n",
    "    \"https://example.com/reports/cash_flow_2022_06.csv\",\n",
    "    \"https://example.com/reports/earnings_2022_06.csv\",\n",
    "    \"https://example.com/dashboard/reports_2022_07.html\",\n",
    "    \"https://example.com/reports/cash_flow_2022_07.csv\",\n",
    "    \"https://example.com/reports/earnings_2022_07.csv\",\n",
    "    \"https://example.com/dashboard/reports_2022_08.html\",\n",
    "    \"https://example.com/reports/cash_flow_2022_08.csv\",\n",
    "    \"https://example.com/reports/earnings_2022_08.csv\",\n",
    "    \"https://example.com/dashboard/reports_2022_09.html\",\n",
    "    \"https://example.com/reports/cash_flow_2022_09.csv\",\n",
    "    \"https://example.com/reports/earnings_2022_09.csv\",\n",
    "    \"https://example.com/dashboard/reports_2022_10.html\",\n",
    "    \"https://example.com/reports/cash_flow_2022_10.csv\",\n",
    "    \"https://example.com/reports/earnings_2022_10.csv\",\n",
    "    \"https://example.com/dashboard/reports_2022_11.html\",\n",
    "    \"https://example.com/reports/cash_flow_2022_11.csv\",\n",
    "    \"https://example.com/reports/earnings_2022_11.csv\",\n",
    "    \"https://example.com/dashboard/reports_2022_12.html\",\n",
    "    \"https://example.com/reports/cash_flow_2022_12.csv\",\n",
    "    \"https://example.com/reports/earnings_2022_12.csv\",\n",
    "]    \n",
    "```\n",
    "\n",
    "Implement the function called `get_q4_earnings` that takes in three arguments: `list` of URLs as `str`s, an `int` representing the year of **earnings** we care about (not cash flow, or dashboard reports), and an `int` of the quarter we care about. The function shoud return a `list` of `str` of the URLs that are the earnings for the year and quarter we care about.\n",
    "\n",
    "For the above list of URLs, here's the expected output:\n",
    "\n",
    "```python\n",
    ">>> get_q4_earnings(url_list=url_list, year=2022, quarter=4)\n",
    "[\n",
    "    \"https://example.com/reports/earnings_2022_10.csv\",\n",
    "    \"https://example.com/reports/earnings_2022_11.csv\",\n",
    "    \"https://example.com/reports/earnings_2022_12.csv\",\n",
    "]\n",
    "```\n",
    "\n",
    "Your implementation **must** use `re` to find the relevant URLs. Order of the returned value does not matter. \n",
    "\n",
    "You may assume all inputs given will be valid. That us, `url_list` will be a list of URL `str`s; values of `quarter` will only an integer from 1-4 (inclusive); and the values of `year` will be a valid 4-digit year. Therefore, you do not need to do any validation with the inputs given.\n",
    "\n",
    "You may also assume that each URL in `url_list` will either start with `https://example.com/reports/` or `https://example.com/dashboard/`, and that only the filename changes.\n",
    "\n",
    "[2 points]"
   ]
  },
  {
   "cell_type": "code",
   "execution_count": 23,
   "id": "54850053",
   "metadata": {
    "deletable": false,
    "nbgrader": {
     "cell_type": "code",
     "checksum": "cc8b2b6a02efbe74d26b78ecef41677d",
     "grade": false,
     "grade_id": "cell-9dffb4d1b7db188b",
     "locked": false,
     "schema_version": 3,
     "solution": true,
     "task": false
    }
   },
   "outputs": [],
   "source": [
    "def get_q4_earnings(url_list, year, quarter):\n",
    "    pattern = r\"earnings_{}_({})\\.csv\".format(year, \"|\".join([f\"{str((quarter-1)*3 + i + 1).zfill(2)}\" for i in range(3)]))\n",
    "    return [url for url in url_list if re.search(pattern, url)]\n",
    " "
   ]
  },
  {
   "cell_type": "code",
   "execution_count": 24,
   "id": "79324413",
   "metadata": {
    "deletable": false,
    "editable": false,
    "nbgrader": {
     "cell_type": "code",
     "checksum": "3cd01f2bd9142a410a45051e701a05ab",
     "grade": true,
     "grade_id": "cell-ae3bf5c13ea8fe10",
     "locked": true,
     "points": 0.25,
     "schema_version": 3,
     "solution": false,
     "task": false
    }
   },
   "outputs": [],
   "source": [
    "### BEGIN TESTS\n",
    "url_list = [\n",
    "    \"https://example.com/dashboard/reports_2021_10.html\",\n",
    "    \"https://example.com/reports/cash_flow_2021_10.csv\",\n",
    "    \"https://example.com/reports/earnings_2021_10.csv\",\n",
    "    \"https://example.com/dashboard/reports_2021_11.html\",\n",
    "    \"https://example.com/reports/cash_flow_2021_11.csv\",\n",
    "    \"https://example.com/reports/earnings_2021_11.csv\",\n",
    "    \"https://example.com/dashboard/reports_2021_12.html\",\n",
    "    \"https://example.com/reports/cash_flow_2021_12.csv\",\n",
    "    \"https://example.com/reports/earnings_2021_12.csv\",\n",
    "    \"https://example.com/dashboard/reports_2022_01.html\",\n",
    "    \"https://example.com/reports/cash_flow_2022_01.csv\",\n",
    "    \"https://example.com/reports/earnings_2022_01.csv\",\n",
    "    \"https://example.com/dashboard/reports_2022_02.html\",\n",
    "    \"https://example.com/reports/cash_flow_2022_02.csv\",\n",
    "    \"https://example.com/reports/earnings_2022_02.csv\",\n",
    "    \"https://example.com/dashboard/reports_2022_03.html\",\n",
    "    \"https://example.com/reports/cash_flow_2022_03.csv\",\n",
    "    \"https://example.com/reports/earnings_2022_03.csv\",\n",
    "    \"https://example.com/dashboard/reports_2022_04.html\",\n",
    "    \"https://example.com/reports/cash_flow_2022_04.csv\",\n",
    "    \"https://example.com/reports/earnings_2022_04.csv\",\n",
    "    \"https://example.com/dashboard/reports_2022_05.html\",\n",
    "    \"https://example.com/reports/cash_flow_2022_05.csv\",\n",
    "    \"https://example.com/reports/earnings_2022_05.csv\",\n",
    "    \"https://example.com/dashboard/reports_2022_06.html\",\n",
    "    \"https://example.com/reports/cash_flow_2022_06.csv\",\n",
    "    \"https://example.com/reports/earnings_2022_06.csv\",\n",
    "    \"https://example.com/dashboard/reports_2022_07.html\",\n",
    "    \"https://example.com/reports/cash_flow_2022_07.csv\",\n",
    "    \"https://example.com/reports/earnings_2022_07.csv\",\n",
    "    \"https://example.com/dashboard/reports_2022_08.html\",\n",
    "    \"https://example.com/reports/cash_flow_2022_08.csv\",\n",
    "    \"https://example.com/reports/earnings_2022_08.csv\",\n",
    "    \"https://example.com/dashboard/reports_2022_09.html\",\n",
    "    \"https://example.com/reports/cash_flow_2022_09.csv\",\n",
    "    \"https://example.com/reports/earnings_2022_09.csv\",\n",
    "    \"https://example.com/dashboard/reports_2022_10.html\",\n",
    "    \"https://example.com/reports/cash_flow_2022_10.csv\",\n",
    "    \"https://example.com/reports/earnings_2022_10.csv\",\n",
    "    \"https://example.com/dashboard/reports_2022_11.html\",\n",
    "    \"https://example.com/reports/cash_flow_2022_11.csv\",\n",
    "    \"https://example.com/reports/earnings_2022_11.csv\",\n",
    "    \"https://example.com/dashboard/reports_2022_12.html\",\n",
    "    \"https://example.com/reports/cash_flow_2022_12.csv\",\n",
    "    \"https://example.com/reports/earnings_2022_12.csv\",\n",
    "]\n",
    "\n",
    "expected = [\n",
    "    \"https://example.com/reports/earnings_2022_10.csv\",\n",
    "    \"https://example.com/reports/earnings_2022_11.csv\",\n",
    "    \"https://example.com/reports/earnings_2022_12.csv\",   \n",
    "]\n",
    "\n",
    "actual = sorted(get_q4_earnings(url_list, 2022, 4))\n",
    "assert expected == actual, f\"\\nExpected: '{expected}'\\nGot: '{actual}'\"\n",
    "### END TESTS"
   ]
  },
  {
   "cell_type": "code",
   "execution_count": 25,
   "id": "dafad059",
   "metadata": {
    "deletable": false,
    "editable": false,
    "nbgrader": {
     "cell_type": "code",
     "checksum": "dc3704e1e4adeb10dd34aff85f506248",
     "grade": true,
     "grade_id": "cell-22703c94b0abb8b2",
     "locked": true,
     "points": 0.25,
     "schema_version": 3,
     "solution": false,
     "task": false
    }
   },
   "outputs": [],
   "source": [
    "### BEGIN TESTS\n",
    "url_list = [\n",
    "    \"https://example.com/dashboard/reports_2021_10.html\",\n",
    "    \"https://example.com/reports/cash_flow_2021_10.csv\",\n",
    "    \"https://example.com/reports/earnings_2021_10.csv\",\n",
    "    \"https://example.com/dashboard/reports_2021_11.html\",\n",
    "    \"https://example.com/reports/cash_flow_2021_11.csv\",\n",
    "    \"https://example.com/reports/earnings_2021_11.csv\",\n",
    "    \"https://example.com/dashboard/reports_2021_12.html\",\n",
    "    \"https://example.com/reports/cash_flow_2021_12.csv\",\n",
    "    \"https://example.com/reports/earnings_2021_12.csv\",\n",
    "    \"https://example.com/dashboard/reports_2022_01.html\",\n",
    "    \"https://example.com/reports/cash_flow_2022_01.csv\",\n",
    "    \"https://example.com/reports/earnings_2022_01.csv\",\n",
    "    \"https://example.com/dashboard/reports_2022_02.html\",\n",
    "    \"https://example.com/reports/cash_flow_2022_02.csv\",\n",
    "    \"https://example.com/reports/earnings_2022_02.csv\",\n",
    "    \"https://example.com/dashboard/reports_2022_03.html\",\n",
    "    \"https://example.com/reports/cash_flow_2022_03.csv\",\n",
    "    \"https://example.com/reports/earnings_2022_03.csv\",\n",
    "    \"https://example.com/dashboard/reports_2022_04.html\",\n",
    "    \"https://example.com/reports/cash_flow_2022_04.csv\",\n",
    "    \"https://example.com/reports/earnings_2022_04.csv\",\n",
    "    \"https://example.com/dashboard/reports_2022_05.html\",\n",
    "    \"https://example.com/reports/cash_flow_2022_05.csv\",\n",
    "    \"https://example.com/reports/earnings_2022_05.csv\",\n",
    "]\n",
    "\n",
    "expected = [\n",
    "    \"https://example.com/reports/earnings_2022_04.csv\",\n",
    "    \"https://example.com/reports/earnings_2022_05.csv\",\n",
    "]\n",
    "\n",
    "actual = sorted(get_q4_earnings(url_list, 2022, 2))\n",
    "assert expected == actual, f\"\\nExpected: '{expected}'\\nGot: '{actual}'\"\n",
    "### END TESTS"
   ]
  },
  {
   "cell_type": "code",
   "execution_count": 26,
   "id": "9b7256c0",
   "metadata": {
    "deletable": false,
    "editable": false,
    "nbgrader": {
     "cell_type": "code",
     "checksum": "c9df4d78a8268b84ec5bcc011825cff5",
     "grade": true,
     "grade_id": "cell-cb93bc9318701cad",
     "locked": true,
     "points": 0.25,
     "schema_version": 3,
     "solution": false,
     "task": false
    }
   },
   "outputs": [],
   "source": [
    "### BEGIN TESTS\n",
    "url_list = [\n",
    "    \"https://example.com/dashboard/reports_2021_10.html\",\n",
    "    \"https://example.com/reports/cash_flow_2021_10.csv\",\n",
    "    \"https://example.com/reports/earnings_2021_10.csv\",\n",
    "    \"https://example.com/dashboard/reports_2021_11.html\",\n",
    "    \"https://example.com/reports/cash_flow_2021_11.csv\",\n",
    "    \"https://example.com/reports/earnings_2021_11.csv\",\n",
    "    \"https://example.com/dashboard/reports_2021_12.html\",\n",
    "    \"https://example.com/reports/cash_flow_2021_12.csv\",\n",
    "    \"https://example.com/reports/earnings_2021_12.csv\",\n",
    "    \"https://example.com/dashboard/reports_2022_01.html\",\n",
    "    \"https://example.com/reports/cash_flow_2022_01.csv\",\n",
    "    \"https://example.com/reports/earnings_2022_01.csv\",\n",
    "    \"https://example.com/dashboard/reports_2022_02.html\",\n",
    "    \"https://example.com/reports/cash_flow_2022_02.csv\",\n",
    "    \"https://example.com/reports/earnings_2022_02.csv\",\n",
    "    \"https://example.com/dashboard/reports_2022_03.html\",\n",
    "    \"https://example.com/reports/cash_flow_2022_03.csv\",\n",
    "    \"https://example.com/reports/earnings_2022_03.csv\",\n",
    "    \"https://example.com/dashboard/reports_2022_04.html\",\n",
    "    \"https://example.com/reports/cash_flow_2022_04.csv\",\n",
    "    \"https://example.com/reports/earnings_2022_04.csv\",\n",
    "    \"https://example.com/dashboard/reports_2022_05.html\",\n",
    "    \"https://example.com/reports/cash_flow_2022_05.csv\",\n",
    "    \"https://example.com/reports/earnings_2022_05.csv\",\n",
    "    \"https://example.com/dashboard/reports_2022_06.html\",\n",
    "    \"https://example.com/reports/cash_flow_2022_06.csv\",\n",
    "    \"https://example.com/reports/earnings_2022_06.csv\",\n",
    "    \"https://example.com/dashboard/reports_2022_07.html\",\n",
    "    \"https://example.com/reports/cash_flow_2022_07.csv\",\n",
    "    \"https://example.com/reports/earnings_2022_07.csv\",\n",
    "    \"https://example.com/dashboard/reports_2022_08.html\",\n",
    "    \"https://example.com/reports/cash_flow_2022_08.csv\",\n",
    "    \"https://example.com/reports/earnings_2022_08.csv\",\n",
    "    \"https://example.com/dashboard/reports_2022_09.html\",\n",
    "    \"https://example.com/reports/cash_flow_2022_09.csv\",\n",
    "    \"https://example.com/reports/earnings_2022_09.csv\",\n",
    "    \"https://example.com/dashboard/reports_2022_10.html\",\n",
    "    \"https://example.com/reports/cash_flow_2022_10.csv\",\n",
    "    \"https://example.com/reports/earnings_2022_10.csv\",\n",
    "    \"https://example.com/dashboard/reports_2022_11.html\",\n",
    "    \"https://example.com/reports/cash_flow_2022_11.csv\",\n",
    "    \"https://example.com/reports/earnings_2022_11.csv\",\n",
    "    \"https://example.com/dashboard/reports_2022_12.html\",\n",
    "    \"https://example.com/reports/cash_flow_2022_12.csv\",\n",
    "    \"https://example.com/reports/earnings_2022_12.csv\",\n",
    "]\n",
    "\n",
    "expected = []\n",
    "\n",
    "actual = get_q4_earnings(url_list, 2021, 2)\n",
    "assert expected == actual, f\"\\nExpected: '{expected}'\\nGot: '{actual}'\"\n",
    "### END TESTS"
   ]
  },
  {
   "cell_type": "code",
   "execution_count": 27,
   "id": "9d53f90e",
   "metadata": {
    "deletable": false,
    "editable": false,
    "nbgrader": {
     "cell_type": "code",
     "checksum": "2da9f78cb6f01217abb1fcb299e49c86",
     "grade": true,
     "grade_id": "cell-49be402ea7beb3d3",
     "locked": true,
     "points": 0.25,
     "schema_version": 3,
     "solution": false,
     "task": false
    }
   },
   "outputs": [],
   "source": [
    "### BEGIN TESTS\n",
    "url_list = []\n",
    "expected = []\n",
    "\n",
    "actual = get_q4_earnings(url_list, 2021, 2)\n",
    "assert expected == actual, f\"\\nExpected: '{expected}'\\nGot: '{actual}'\"\n",
    "### END TESTS"
   ]
  },
  {
   "cell_type": "code",
   "execution_count": 28,
   "id": "ec850b38",
   "metadata": {
    "deletable": false,
    "editable": false,
    "nbgrader": {
     "cell_type": "code",
     "checksum": "4c6555fdbedcc48f4d6682ff64ed5f5f",
     "grade": true,
     "grade_id": "cell-9d5f2c9b9a65849a",
     "locked": true,
     "points": 1,
     "schema_version": 3,
     "solution": false,
     "task": false
    }
   },
   "outputs": [],
   "source": [
    "# CELL INTENTIONALLY LEFT BLANK - DO NOT ALTER OR DELETE"
   ]
  },
  {
   "cell_type": "code",
   "execution_count": null,
   "id": "c12da271",
   "metadata": {},
   "outputs": [],
   "source": [
    " "
   ]
  },
  {
   "cell_type": "code",
   "execution_count": null,
   "id": "3a072498",
   "metadata": {},
   "outputs": [],
   "source": []
  }
 ],
 "metadata": {
  "kernelspec": {
   "display_name": "Python 3 (ipykernel)",
   "language": "python",
   "name": "python3"
  },
  "language_info": {
   "codemirror_mode": {
    "name": "ipython",
    "version": 3
   },
   "file_extension": ".py",
   "mimetype": "text/x-python",
   "name": "python",
   "nbconvert_exporter": "python",
   "pygments_lexer": "ipython3",
   "version": "3.11.4"
  }
 },
 "nbformat": 4,
 "nbformat_minor": 5
}
