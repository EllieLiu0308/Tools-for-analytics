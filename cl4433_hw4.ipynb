{
 "cells": [
  {
   "cell_type": "markdown",
   "id": "753c84b0",
   "metadata": {},
   "source": [
    "Please read the following instructions thoroughly. Neglecting to do so may result in missed points.\n",
    "\n",
    "### Preamble\n",
    "**Reminder**: Homeworks are due by 7:00PM ET on Sundays.\n",
    "\n",
    "Before you turn this problem set in, make sure everything runs as expected. First, **restart the kernel** (in the menubar, select Kernel$\\rightarrow$Restart) and then **run all cells** (in the menubar, select Cell$\\rightarrow$Run All).\n",
    "\n",
    "### Naming conventions\n",
    "Be sure the filename of your notebook is in the following form:\n",
    "\n",
    "    <uni>_<assignment>_<details [optional]>.<extension>\n",
    "    \n",
    "For example:\n",
    "\n",
    "    lr3086_hw01.ipynb\n",
    "    lr3086_hw01_complete.ipynb\n",
    "    LR3086_HW01.ipynb\n",
    "    \n",
    "To rename a notebook, in the menubar, select File$\\rightarrow$Rename. The extension for notebook files, `.ipynb`, will already be appended to the filename, but will be hidden from view within the notebook.\n",
    "    \n",
    "This naming format allows for autograding of all assignments. If your files are not named with this format, you should expect a grade of zero for the assignment.\n",
    "\n",
    "Courseworks may rename your file to something like `lr3086_hw0-1.ipynb` if you resubmit your assignment. This is perfectly fine.\n",
    "\n",
    "### What Format To Submit In\n",
    "\n",
    "Most homeworks are in Jupyter notebooks. Once you've finished your homework, unless specified otherwise, please download your work as an `.ipynb` file to your local machine, then upload it to Courseworks when complete (in the menubar, select File$\\rightarrow$Download as$\\rightarrow$Notebook).\n",
    "\n",
    "**Failure to submit a Jupyter notebook will result in a grade of zero for the assignment.**\n",
    "\n",
    "### Grading\n",
    "\n",
    "Possible points on late assignments are deducted by 50% for each day they are late. For example, if you get 80% of the total possible credits on a homework but hand in that homework a day late, you would get 40%. Assignments two days late get zero points.\n",
    "\n",
    "Once solutions are posted and graded assignments are handed back, students have 1 week to bring their grading discrepancies to a CA for consideration of possible grading errors.\n",
    "\n",
    "Because grading is automated, please delete (or comment out) the `raise NotImplmeneted` code before attempting a problem.\n",
    "\n",
    "Empty un-editable cells in an assignment are there for a reason. They will be filled with tests by the automatic grader. Please do not attempt to remove them.\n",
    "\n",
    "### Getting Help\n",
    "\n",
    "Asking for help is a great way to increase your chance of success. However there are some rules. When asking for help (especially from a fellow student), *you can show your helper your code but you can not view theirs*. You work needs to be your own. You can not post screenshots of your current work to Ed Discussions or other tools used for getting help.\n",
    "\n",
    "If you need to reach out to a CA for help, please do so via Ed Discussions and not via email. Answers given via Ed Discussions will help you as well as other students. Thus, emails will always have a lower priority for response than Ed Discussions questions. If you do email the CA, please make a note of what section you are in. This helps us identify you in Courseworks faster.\n",
    "\n",
    "Finally, if you do not get a repsonse from a CA within 48 hours, you may email the professor."
   ]
  },
  {
   "cell_type": "markdown",
   "id": "98f619bb",
   "metadata": {},
   "source": [
    "---"
   ]
  },
  {
   "cell_type": "markdown",
   "id": "30628f89",
   "metadata": {
    "deletable": false,
    "editable": false,
    "nbgrader": {
     "cell_type": "markdown",
     "checksum": "322d4c6c4b054977dbcee1fb49651fd8",
     "grade": false,
     "grade_id": "cell-778185adc97a3a35",
     "locked": true,
     "schema_version": 3,
     "solution": false,
     "task": false
    }
   },
   "source": [
    "# Homework 4: Object Oriented Programming\n",
    "\n",
    "Total Questions: 6<br/>\n",
    "Total Points: 10"
   ]
  },
  {
   "cell_type": "markdown",
   "id": "04c146f3",
   "metadata": {
    "deletable": false,
    "editable": false,
    "nbgrader": {
     "cell_type": "markdown",
     "checksum": "ff89e2c8f583a020eb240d6db806fcb8",
     "grade": false,
     "grade_id": "cell-565944d015068027",
     "locked": true,
     "schema_version": 3,
     "solution": false,
     "task": false
    }
   },
   "source": [
    "## Context\n",
    "\n",
    "Questions 1 through 5 will have you practice some object oriented programming by implementing an **Address Book** for managing contact information.\n",
    "\n",
    "You will be asked to implement a number of new types, and some methods on them for implementing address book functionality you likely are already familiar with.\n",
    "\n",
    "When asked to modify an existing type in an exercise, you should completely redefine the type -- in other words, if you answered:\n",
    "\n",
    "```py\n",
    "class Something:\n",
    "    def __init__(self):\n",
    "        pass\n",
    "```\n",
    "\n",
    "for the first question, and are then asked to add a new `foo` attribute to `Something` instances in question 2, your answer to question 2 should be:\n",
    "\n",
    "```py\n",
    "class Something:\n",
    "    def __init__(self):\n",
    "        self.foo = 12\n",
    "```\n",
    "\n",
    "where you have completely redefined the Something class with the newly needed attribute."
   ]
  },
  {
   "cell_type": "markdown",
   "id": "8342d709",
   "metadata": {
    "deletable": false,
    "editable": false,
    "nbgrader": {
     "cell_type": "markdown",
     "checksum": "61c921c8da61deb1a366c71d06d69b3e",
     "grade": false,
     "grade_id": "cell-b0cb6e4a4f02a052",
     "locked": true,
     "schema_version": 3,
     "solution": false,
     "task": false
    }
   },
   "source": [
    "## Question 1\n",
    "\n",
    "We first will start with a type which represents each **contact** we store in the address book.\n",
    "\n",
    "We'll want a contact to have a (full) name which is required, zero or more phone numbers, and zero or more email addresses for the contact.\n",
    "\n",
    "Here's an example of how someone will want to use our class:\n",
    "\n",
    "```py\n",
    "karina = Contact(\n",
    "    name=\"Karina Whitley\", \n",
    "    addresses=[], \n",
    "    email_addresses=[\"kwhitley@example.org\"]\n",
    ")\n",
    "```\n",
    "\n",
    "Write a `Contact` class supporting the above, which additionally re-exposes the `name`, `addresses`, and `email_addresses` arguments as public attributes. In other words, in the above example, `karina.name` should return `\"Karina Whitley\"`, the string that was passed in.\n",
    "\n",
    "Remember that both `addresses` and `email_addresses` support 0 or more addresses. To make providing 0 of these more convenient, your class should support leaving those parameters off, meaning:\n",
    "\n",
    "```py\n",
    "tayte = Contact(name=\"Tayte Whitaker\")\n",
    "```\n",
    "\n",
    "should create a contact whose `addresses` and `email_addresses` are set to a falsy value (any falsy value is acceptable, like `None` or an empty list, `[]`).\n",
    "\n",
    "[2 points]"
   ]
  },
  {
   "cell_type": "code",
   "execution_count": 1,
   "id": "241dafed",
   "metadata": {
    "deletable": false,
    "nbgrader": {
     "cell_type": "code",
     "checksum": "9c466f1bec3e42ab6748ae2ade131888",
     "grade": false,
     "grade_id": "cell-58ef6d0845f50544",
     "locked": false,
     "schema_version": 3,
     "solution": true,
     "task": false
    }
   },
   "outputs": [],
   "source": [
    "class Contact:\n",
    "    def __init__(self, name, addresses=None, email_addresses=None):\n",
    "        self.name = name\n",
    "        self.addresses = addresses or []\n",
    "        self.email_addresses = email_addresses or []"
   ]
  },
  {
   "cell_type": "code",
   "execution_count": 2,
   "id": "cb953076",
   "metadata": {
    "deletable": false,
    "editable": false,
    "nbgrader": {
     "cell_type": "code",
     "checksum": "c9a68d9cbe5d08a8a923820f0b370da8",
     "grade": true,
     "grade_id": "cell-4086caa50583bb00",
     "locked": true,
     "points": 0.5,
     "schema_version": 3,
     "solution": false,
     "task": false
    }
   },
   "outputs": [],
   "source": [
    "### BEGIN TESTS\n",
    "karina = Contact(\n",
    "    name=\"Karina Whitley\", \n",
    "    addresses=[], \n",
    "    email_addresses=[\"kwhitley@example.org\"]\n",
    ")\n",
    "assert \"Karina Whitley\" == karina.name\n",
    "assert not karina.addresses\n",
    "assert [\"kwhitley@example.org\"] == karina.email_addresses\n",
    "\n",
    "### END TESTS"
   ]
  },
  {
   "cell_type": "code",
   "execution_count": 3,
   "id": "4c8e2135",
   "metadata": {
    "deletable": false,
    "editable": false,
    "nbgrader": {
     "cell_type": "code",
     "checksum": "2b665baf6abaa5932baae12aa83bc937",
     "grade": true,
     "grade_id": "cell-cff1aad36e1aae6f",
     "locked": true,
     "points": 0.5,
     "schema_version": 3,
     "solution": false,
     "task": false
    }
   },
   "outputs": [],
   "source": [
    "### BEGIN TESTS\n",
    "edwin = Contact(\n",
    "    name=\"Edwin Alder\", \n",
    "    addresses=[\"100 Park Avenue South\\nNew York, NY 10003\"], \n",
    "    email_addresses=[\"ealder@example.org\"]\n",
    ")\n",
    "\n",
    "assert (edwin.name, edwin.addresses, edwin.email_addresses) == (\n",
    "    \"Edwin Alder\",\n",
    "    [\"100 Park Avenue South\\nNew York, NY 10003\"],\n",
    "    [\"ealder@example.org\"],\n",
    ")\n",
    "### END TESTS"
   ]
  },
  {
   "cell_type": "code",
   "execution_count": 4,
   "id": "7a3e111a",
   "metadata": {
    "deletable": false,
    "editable": false,
    "nbgrader": {
     "cell_type": "code",
     "checksum": "ba0071a6a3b4f6b6969c74f79b21454e",
     "grade": true,
     "grade_id": "cell-ec15216391d25859",
     "locked": true,
     "points": 0.5,
     "schema_version": 3,
     "solution": false,
     "task": false
    }
   },
   "outputs": [],
   "source": [
    "### BEGIN TESTS\n",
    "tae = Contact(name=\"Tae Danae Ruby\")\n",
    "assert tae.name == \"Tae Danae Ruby\"\n",
    "assert not tae.addresses\n",
    "assert not tae.email_addresses\n",
    "### END TESTS"
   ]
  },
  {
   "cell_type": "code",
   "execution_count": 5,
   "id": "b9ed6475",
   "metadata": {
    "deletable": false,
    "editable": false,
    "nbgrader": {
     "cell_type": "code",
     "checksum": "0a1e6a228a7a05199cc7d5be056fe7f0",
     "grade": true,
     "grade_id": "cell-bd391629be5f0670",
     "locked": true,
     "points": 0.5,
     "schema_version": 3,
     "solution": false,
     "task": false
    }
   },
   "outputs": [],
   "source": [
    "### BEGIN TESTS\n",
    "christine = Contact(\n",
    "    name=\"Christine Robins\", \n",
    "    email_addresses=[\"crobins@example.com\", \"crobins@example.edu\"]\n",
    ")\n",
    "assert christine.name == \"Christine Robins\"\n",
    "assert not christine.addresses\n",
    "assert christine.email_addresses == [\"crobins@example.com\", \"crobins@example.edu\"]\n",
    "### END TESTS"
   ]
  },
  {
   "cell_type": "markdown",
   "id": "77dbb58f",
   "metadata": {
    "deletable": false,
    "editable": false,
    "nbgrader": {
     "cell_type": "markdown",
     "checksum": "1479f96daac8a5403a8366f8060781f0",
     "grade": false,
     "grade_id": "cell-ba8a92dfea276c3e",
     "locked": true,
     "schema_version": 3,
     "solution": false,
     "task": false
    }
   },
   "source": [
    "## Question 2\n",
    "\n",
    "Now that we have a type which represents an individual contact (person), we want a type which represents our address book which will contain lots of contacts.\n",
    "\n",
    "Write an `AddressBook` class which takes a list of contacts (defined as above), and can be used as such:\n",
    "\n",
    "```py\n",
    "lynn = Contact(name=\"Lynn Root\")\n",
    "book = AddressBook(contacts=[lynn])\n",
    "```\n",
    "\n",
    "Give your address book class a _method_ called `add_contact` which can add a contact to the address book even after creating one.\n",
    "\n",
    "In other words:\n",
    "\n",
    "```py\n",
    "sai = Contact(\n",
    "    name=\"Sai Lee\", \n",
    "    email_addresses=[\"sai@example.com\"]\n",
    ")\n",
    "book.add_contact(sai)\n",
    "```\n",
    "which should add the new contact to the address book.\n",
    "\n",
    "[2 points]"
   ]
  },
  {
   "cell_type": "code",
   "execution_count": 6,
   "id": "8e221f29",
   "metadata": {
    "deletable": false,
    "nbgrader": {
     "cell_type": "code",
     "checksum": "f2b0e66e5d86689b12c83e851942e5df",
     "grade": false,
     "grade_id": "cell-6c24414d136a3f22",
     "locked": false,
     "schema_version": 3,
     "solution": true,
     "task": false
    }
   },
   "outputs": [],
   "source": [
    "class AddressBook:\n",
    "    def __init__(self, contacts=[]):\n",
    "        self.contacts = contacts\n",
    "\n",
    "    def add_contact(self, contact):\n",
    "        self.contacts.append(contact)"
   ]
  },
  {
   "cell_type": "code",
   "execution_count": 7,
   "id": "8810d17c",
   "metadata": {
    "deletable": false,
    "editable": false,
    "nbgrader": {
     "cell_type": "code",
     "checksum": "fc925cb4b403c60ced09bfb67217a304",
     "grade": true,
     "grade_id": "cell-3ac167f97aea38ca",
     "locked": true,
     "points": 1,
     "schema_version": 3,
     "solution": false,
     "task": false
    }
   },
   "outputs": [],
   "source": [
    "### BEGIN TESTS\n",
    "lynn = Contact(name=\"Lynn Root\")\n",
    "book = AddressBook(contacts=[lynn])\n",
    "book.add_contact(Contact(name=\"Sai Lee\", email_addresses=[\"sai@example.com\"]))\n",
    "### END TESTS"
   ]
  },
  {
   "cell_type": "code",
   "execution_count": 8,
   "id": "8372f94a",
   "metadata": {
    "deletable": false,
    "editable": false,
    "nbgrader": {
     "cell_type": "code",
     "checksum": "e4a1d29c4db993d1a75207ffb6066181",
     "grade": true,
     "grade_id": "cell-4040a0858c2c2d70",
     "locked": true,
     "points": 1,
     "schema_version": 3,
     "solution": false,
     "task": false
    }
   },
   "outputs": [],
   "source": [
    "### BEGIN TESTS\n",
    "book = AddressBook(contacts=[])\n",
    "book.add_contact(lynn)\n",
    "### END TESTS"
   ]
  },
  {
   "cell_type": "markdown",
   "id": "1a74b801",
   "metadata": {
    "deletable": false,
    "editable": false,
    "nbgrader": {
     "cell_type": "markdown",
     "checksum": "5d49ba5f28a02df333379c192606b12b",
     "grade": false,
     "grade_id": "cell-bce0b1a842412b2c",
     "locked": true,
     "schema_version": 3,
     "solution": false,
     "task": false
    }
   },
   "source": [
    "## Question 3\n",
    "\n",
    "Our address book can have contacts added to it, but we have no way of looking up their information.\n",
    "\n",
    "Let's add one.\n",
    "\n",
    "Redefine the `AddressBook` class such that it also has a `get_contact_by_name` method which takes a name (a `str`) and returns the contact with the given name -- i.e. it returns an instance of `Contact`.\n",
    "\n",
    "You can assume that all names are unique, so no two contacts will have the same exact name for this exercise.\n",
    "\n",
    "Implement `get_contact_by_name` method so that you only have to provide the string of the contact's name and not a `Contact` instance.\n",
    "\n",
    "Be sure to also include the implementation for the `add_contact` method you defined from question 2.\n",
    "\n",
    "[2 points]"
   ]
  },
  {
   "cell_type": "code",
   "execution_count": 9,
   "id": "1ede05bf",
   "metadata": {
    "deletable": false,
    "nbgrader": {
     "cell_type": "code",
     "checksum": "d9e08c44ea090d1f9f86288ea6ca8b81",
     "grade": false,
     "grade_id": "cell-762a12f6641e3f64",
     "locked": false,
     "schema_version": 3,
     "solution": true,
     "task": false
    }
   },
   "outputs": [],
   "source": [
    "class AddressBook:\n",
    "    def __init__(self, contacts=[]):\n",
    "        self.contacts = contacts\n",
    "\n",
    "    def add_contact(self, contact):\n",
    "        self.contacts.append(contact)\n",
    "\n",
    "    def get_contact_by_name(self, name):\n",
    "        for contact in self.contacts:\n",
    "            if contact.name == name:\n",
    "                return contact\n",
    "        return None"
   ]
  },
  {
   "cell_type": "code",
   "execution_count": 10,
   "id": "41e8d2b5",
   "metadata": {
    "deletable": false,
    "editable": false,
    "nbgrader": {
     "cell_type": "code",
     "checksum": "01543485d541d357bbc1207bd8b0abbe",
     "grade": true,
     "grade_id": "cell-a526d1180a86e905",
     "locked": true,
     "points": 1,
     "schema_version": 3,
     "solution": false,
     "task": false
    }
   },
   "outputs": [],
   "source": [
    "### BEGIN TESTS\n",
    "lynn = Contact(name=\"Lynn Root\")\n",
    "book = AddressBook(contacts=[lynn])\n",
    "assert book.get_contact_by_name(\"Lynn Root\") == lynn\n",
    "### END TESTS"
   ]
  },
  {
   "cell_type": "code",
   "execution_count": 11,
   "id": "530cc46f",
   "metadata": {
    "deletable": false,
    "editable": false,
    "nbgrader": {
     "cell_type": "code",
     "checksum": "1247e5582421f307a466e75657527689",
     "grade": true,
     "grade_id": "cell-8a64b693f8bafd7e",
     "locked": true,
     "points": 1,
     "schema_version": 3,
     "solution": false,
     "task": false
    }
   },
   "outputs": [],
   "source": [
    "### BEGIN TESTS\n",
    "sai = Contact(name=\"Sai Lee\", email_addresses=[\"sai@example.com\"])\n",
    "book.add_contact(sai)\n",
    "assert book.get_contact_by_name(\"Lynn Root\") == lynn\n",
    "assert book.get_contact_by_name(\"Sai Lee\") == sai\n",
    "### END TESTS"
   ]
  },
  {
   "cell_type": "markdown",
   "id": "71a22ff1",
   "metadata": {
    "deletable": false,
    "editable": false,
    "nbgrader": {
     "cell_type": "markdown",
     "checksum": "5fa2e0a18df1c6cf0e50788ef92c56fc",
     "grade": false,
     "grade_id": "cell-a894f7b415ee98f8",
     "locked": true,
     "schema_version": 3,
     "solution": false,
     "task": false
    }
   },
   "source": [
    "## Question 4\n",
    "\n",
    "We can now both add contacts to the address book as well as look them up.\n",
    "\n",
    "But we want to be able to signal that a contact doesn't exist if we attempt to look up one by name that is not present in the address book.\n",
    "\n",
    "Define an exception called `NoSuchContact`, and raise this exception in `get_contact_by_name` if it is called with a name that does not match any contact. You should include the name of the (non-existing) contact in the exception message for `NoSuchContact`. \n",
    "\n",
    "Don't forget, you'll have to re-define the `AddressBook` class in order to contain this new logic.\n",
    "\n",
    "[2 points]"
   ]
  },
  {
   "cell_type": "code",
   "execution_count": 12,
   "id": "d2e795a8",
   "metadata": {
    "deletable": false,
    "nbgrader": {
     "cell_type": "code",
     "checksum": "271ad76be2cb9d817641e47e5d58b568",
     "grade": false,
     "grade_id": "cell-e86904ff06b67d34",
     "locked": false,
     "schema_version": 3,
     "solution": true,
     "task": false
    }
   },
   "outputs": [],
   "source": [
    "class NoSuchContact(Exception):\n",
    "    pass\n",
    "\n",
    "class AddressBook:\n",
    "    def __init__(self, contacts=[]):\n",
    "        self.contacts = contacts\n",
    "\n",
    "    def add_contact(self, contact):\n",
    "        self.contacts.append(contact)\n",
    "\n",
    "    def get_contact_by_name(self, name):\n",
    "        for contact in self.contacts:\n",
    "            if contact.name == name:\n",
    "                return contact\n",
    "        raise NoSuchContact(f\"No contact found with the name '{name}'\")\n",
    " "
   ]
  },
  {
   "cell_type": "code",
   "execution_count": 13,
   "id": "49d1a7fd",
   "metadata": {
    "deletable": false,
    "editable": false,
    "nbgrader": {
     "cell_type": "code",
     "checksum": "7daa4db16d43cb99bcb7f6efca59b2d0",
     "grade": true,
     "grade_id": "cell-a98e218fe0d1fd39",
     "locked": true,
     "points": 0.5,
     "schema_version": 3,
     "solution": false,
     "task": false
    }
   },
   "outputs": [],
   "source": [
    "### BEGIN TESTS\n",
    "lynn = Contact(name=\"Lynn Root\")\n",
    "book = AddressBook(contacts=[lynn])\n",
    "assert book.get_contact_by_name(\"Lynn Root\") == lynn\n",
    "try:\n",
    "    book.get_contact_by_name(\"Unknown Contact\")\n",
    "except NoSuchContact:\n",
    "    pass\n",
    "else:\n",
    "    assert False, \"Expected a 'NoSuchContact' exception!\"\n",
    "### END TESTS"
   ]
  },
  {
   "cell_type": "code",
   "execution_count": 14,
   "id": "7322cc4d",
   "metadata": {
    "deletable": false,
    "editable": false,
    "nbgrader": {
     "cell_type": "code",
     "checksum": "58744916a2d39374f4e0e81c798831c3",
     "grade": true,
     "grade_id": "cell-a153e8f8472e06bf",
     "locked": true,
     "points": 1,
     "schema_version": 3,
     "solution": false,
     "task": false
    }
   },
   "outputs": [],
   "source": [
    "### BEGIN TESTS\n",
    "lynn = Contact(name=\"Lynn Root\")\n",
    "book = AddressBook(contacts=[lynn])\n",
    "assert book.get_contact_by_name(\"Lynn Root\") == lynn\n",
    "try:\n",
    "    book.get_contact_by_name(\"Unknown Contact\")\n",
    "except NoSuchContact as e:\n",
    "    assert \"Unknown Contact\" in str(e)\n",
    "else:\n",
    "    assert False, \"Expected a 'NoSuchContact' exception!\"\n",
    "### END TESTS"
   ]
  },
  {
   "cell_type": "code",
   "execution_count": 15,
   "id": "e1006807",
   "metadata": {
    "deletable": false,
    "editable": false,
    "nbgrader": {
     "cell_type": "code",
     "checksum": "82ad30d3cfbedaf1f325a4a5d39e81ce",
     "grade": true,
     "grade_id": "cell-5de2fe39e3024da1",
     "locked": true,
     "points": 0.5,
     "schema_version": 3,
     "solution": false,
     "task": false
    }
   },
   "outputs": [],
   "source": [
    "### BEGIN TESTS\n",
    "try:\n",
    "    book.get_contact_by_name(\"Another Unknown Contact\")\n",
    "except NoSuchContact as e:\n",
    "    assert \"Another Unknown Contact\" in str(e)\n",
    "else:\n",
    "    assert False, \"Expected a 'NoSuchContact' exception!\"\n",
    "### END TESTS"
   ]
  },
  {
   "cell_type": "markdown",
   "id": "83248bef",
   "metadata": {
    "deletable": false,
    "editable": false,
    "nbgrader": {
     "cell_type": "markdown",
     "checksum": "30ecbf26411ed657cdb6720f0c814565",
     "grade": false,
     "grade_id": "cell-df8b2013c52148d5",
     "locked": true,
     "schema_version": 3,
     "solution": false,
     "task": false
    }
   },
   "source": [
    "## Question 5\n",
    "\n",
    "Write an implementation of the `__repr__` special method which for a `Contact` shows the name of the contact.\n",
    "\n",
    "For a contact named `\"Sara Loggins\"`, we want to see `\"Contact(name='Sara Loggins')\"`. You should not include any other contact fields in the output. Be sure that your repr output exactly matches the example shown!\n",
    "\n",
    "[1 point]"
   ]
  },
  {
   "cell_type": "code",
   "execution_count": 16,
   "id": "e23dae29",
   "metadata": {
    "deletable": false,
    "nbgrader": {
     "cell_type": "code",
     "checksum": "7146f4d1919e47a67fe059754ef4d218",
     "grade": false,
     "grade_id": "cell-f319c54ef28284b0",
     "locked": false,
     "schema_version": 3,
     "solution": true,
     "task": false
    }
   },
   "outputs": [],
   "source": [
    "class Contact:\n",
    "    def __init__(self, name, addresses=None, email_addresses=None):\n",
    "        self.name = name\n",
    "        self.addresses = addresses or []\n",
    "        self.email_addresses = email_addresses or []\n",
    "\n",
    "    def __repr__(self):\n",
    "        return f\"Contact(name='{self.name}')\""
   ]
  },
  {
   "cell_type": "code",
   "execution_count": 17,
   "id": "e577ce02",
   "metadata": {
    "deletable": false,
    "editable": false,
    "nbgrader": {
     "cell_type": "code",
     "checksum": "b07ef240e90c2e11bc7e045db4066101",
     "grade": true,
     "grade_id": "cell-8682a765f98c409d",
     "locked": true,
     "points": 0.5,
     "schema_version": 3,
     "solution": false,
     "task": false
    }
   },
   "outputs": [],
   "source": [
    "### BEGIN TESTS\n",
    "assert repr(Contact(name=\"Gandalf Hernandez\")) == \"Contact(name='Gandalf Hernandez')\"\n",
    "### END TESTS"
   ]
  },
  {
   "cell_type": "code",
   "execution_count": 18,
   "id": "148845e2",
   "metadata": {
    "deletable": false,
    "editable": false,
    "nbgrader": {
     "cell_type": "code",
     "checksum": "0a2a0fa6d367178c16cbd32a1c8bcc77",
     "grade": true,
     "grade_id": "cell-1950365786765918",
     "locked": true,
     "points": 0.5,
     "schema_version": 3,
     "solution": false,
     "task": false
    }
   },
   "outputs": [],
   "source": [
    "### BEGIN TESTS\n",
    "assert repr(Contact(name=\"Lynn Root\")) == \"Contact(name='Lynn Root')\"\n",
    "### END TESTS"
   ]
  },
  {
   "cell_type": "markdown",
   "id": "3d34ee23",
   "metadata": {
    "deletable": false,
    "editable": false,
    "nbgrader": {
     "cell_type": "markdown",
     "checksum": "1af866545eeebffc8a910a5a2988acee",
     "grade": false,
     "grade_id": "cell-38a4ca1a8864fc0a",
     "locked": true,
     "schema_version": 3,
     "solution": false,
     "task": false
    }
   },
   "source": [
    "## Question 6\n",
    "\n",
    "Create a class named `String` that inherits from `str`. Add a method to your subclass that checks if the string does not start with a given string. Call that method `notstartswith`. This class should only take up 3 lines of code however you will not be graded on the length of your class.\n",
    "\n",
    "[1 point]"
   ]
  },
  {
   "cell_type": "code",
   "execution_count": 19,
   "id": "fb6f75dd",
   "metadata": {
    "deletable": false,
    "nbgrader": {
     "cell_type": "code",
     "checksum": "5b1d49d18c2cc384dc42b07bb0bdf241",
     "grade": false,
     "grade_id": "cell-63e0e838fde67499",
     "locked": false,
     "schema_version": 3,
     "solution": true,
     "task": false
    }
   },
   "outputs": [],
   "source": [
    "class String(str):\n",
    "    def notstartswith(self, prefix):\n",
    "        return not self.startswith(prefix)"
   ]
  },
  {
   "cell_type": "code",
   "execution_count": 20,
   "id": "87edafd4",
   "metadata": {
    "deletable": false,
    "editable": false,
    "nbgrader": {
     "cell_type": "code",
     "checksum": "1a6732b47fd4a1e0f9df89009c0b5b89",
     "grade": true,
     "grade_id": "cell-437707ddadd1642a",
     "locked": true,
     "points": 0,
     "schema_version": 3,
     "solution": false,
     "task": false
    }
   },
   "outputs": [],
   "source": [
    "### BEGIN TESTS\n",
    "what_does_the_dog_say = \"woof\"\n",
    "word = String(what_does_the_dog_say)\n",
    "\n",
    "assert word.notstartswith(\"w\") is False\n",
    "### END TESTS"
   ]
  },
  {
   "cell_type": "code",
   "execution_count": 21,
   "id": "3848abbf",
   "metadata": {
    "deletable": false,
    "editable": false,
    "nbgrader": {
     "cell_type": "code",
     "checksum": "2f75c2a304ba181ff613d979219b1376",
     "grade": true,
     "grade_id": "cell-3fb8e83ec56679c5",
     "locked": true,
     "points": 0.5,
     "schema_version": 3,
     "solution": false,
     "task": false
    }
   },
   "outputs": [],
   "source": [
    "# CELL INTENTIONALLY LEFT BLANK"
   ]
  },
  {
   "cell_type": "code",
   "execution_count": 22,
   "id": "a9bc3710",
   "metadata": {
    "deletable": false,
    "editable": false,
    "nbgrader": {
     "cell_type": "code",
     "checksum": "d6a23bc2367aaed8fe2bb90e735880e5",
     "grade": true,
     "grade_id": "cell-b59882bc0ba6b144",
     "locked": true,
     "points": 0.5,
     "schema_version": 3,
     "solution": false,
     "task": false
    }
   },
   "outputs": [],
   "source": [
    "# CELL INTENTIONALLY LEFT BLANK"
   ]
  }
 ],
 "metadata": {
  "kernelspec": {
   "display_name": "Python 3 (ipykernel)",
   "language": "python",
   "name": "python3"
  },
  "language_info": {
   "codemirror_mode": {
    "name": "ipython",
    "version": 3
   },
   "file_extension": ".py",
   "mimetype": "text/x-python",
   "name": "python",
   "nbconvert_exporter": "python",
   "pygments_lexer": "ipython3",
   "version": "3.11.4"
  }
 },
 "nbformat": 4,
 "nbformat_minor": 5
}
