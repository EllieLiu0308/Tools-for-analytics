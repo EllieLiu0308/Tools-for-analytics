{
 "cells": [
  {
   "cell_type": "markdown",
   "id": "47973b2d",
   "metadata": {},
   "source": [
    "Please read the following instructions thoroughly. Neglecting to do so may result in missed points.\n",
    "\n",
    "### Preamble\n",
    "**Reminder**: Homeworks are due by 7:00PM ET on Sundays.\n",
    "\n",
    "Before you turn this problem set in, make sure everything runs as expected. First, **restart the kernel** (in the menubar, select Kernel$\\rightarrow$Restart) and then **run all cells** (in the menubar, select Cell$\\rightarrow$Run All).\n",
    "\n",
    "### Naming conventions\n",
    "Be sure the filename of your notebook is in the following form:\n",
    "\n",
    "    <uni>_<assignment>_<details [optional]>.<extension>\n",
    "    \n",
    "For example:\n",
    "\n",
    "    lr3086_hw01.ipynb\n",
    "    lr3086_hw01_complete.ipynb\n",
    "    LR3086_HW01.ipynb\n",
    "    \n",
    "To rename a notebook, in the menubar, select File$\\rightarrow$Rename. The extension for notebook files, `.ipynb`, will already be appended to the filename, but will be hidden from view within the notebook.\n",
    "    \n",
    "This naming format allows for autograding of all assignments. If your files are not named with this format, you should expect a grade of zero for the assignment.\n",
    "\n",
    "Courseworks may rename your file to something like `lr3086_hw0-1.ipynb` if you resubmit your assignment. This is perfectly fine.\n",
    "\n",
    "### What Format To Submit In\n",
    "\n",
    "Most homeworks are in Jupyter notebooks. Once you've finished your homework, unless specified otherwise, please download your work as an `.ipynb` file to your local machine, then upload it to Courseworks when complete (in the menubar, select File$\\rightarrow$Download as$\\rightarrow$Notebook).\n",
    "\n",
    "**Failure to submit a Jupyter notebook will result in a grade of zero for the assignment.**\n",
    "\n",
    "### Grading\n",
    "\n",
    "Possible points on late assignments are deducted by 50% for each day they are late. For example, if you get 80% of the total possible credits on a homework but hand in that homework a day late, you would get 40%. Assignments two days late get zero points.\n",
    "\n",
    "Once solutions are posted and graded assignments are handed back, students have 1 week to bring their grading discrepancies to a CA for consideration of possible grading errors.\n",
    "\n",
    "Because grading is automated, please delete (or comment out) the `raise NotImplmeneted` code before attempting a problem.\n",
    "\n",
    "Empty un-editable cells in an assignment are there for a reason. They will be filled with tests by the automatic grader. Please do not attempt to remove them.\n",
    "\n",
    "### Getting Help\n",
    "\n",
    "Asking for help is a great way to increase your chance of success. However there are some rules. When asking for help (especially from a fellow student), *you can show your helper your code but you can not view theirs*. You work needs to be your own. You can not post screenshots of your current work to Ed Discussions or other tools used for getting help.\n",
    "\n",
    "If you need to reach out to a CA for help, please do so via Ed Discussions and not via email. Answers given via Ed Discussions will help you as well as other students. Thus, emails will always have a lower priority for response than Ed Discussions questions. If you do email the CA, please make a note of what section you are in. This helps us identify you in Courseworks faster.\n",
    "\n",
    "Finally, if you do not get a repsonse from a CA within 48 hours, you may email the professor."
   ]
  },
  {
   "cell_type": "markdown",
   "id": "61118b06",
   "metadata": {},
   "source": [
    "---"
   ]
  },
  {
   "cell_type": "markdown",
   "id": "9130d0fd",
   "metadata": {
    "deletable": false,
    "editable": false,
    "nbgrader": {
     "cell_type": "markdown",
     "checksum": "f47db3498b91301adee29b9d16458078",
     "grade": false,
     "grade_id": "cell-95e6173774f670ca",
     "locked": true,
     "schema_version": 3,
     "solution": false,
     "task": false
    }
   },
   "source": [
    "# Homework 8: HTTP, REST APIs, Data Formats\n",
    "\n",
    "You may use the following packages/imports for any of the questions below:\n",
    "\n",
    "* `bs4` ([docs](https://www.crummy.com/software/BeautifulSoup/bs4/doc/) - should already be installed with Anaconda) \n",
    "* `requests` ([docs](https://docs.python-requests.org/en/latest/) - should already be installed with Anaconda)\n",
    "* `json` (standard library)\n",
    "* `re` (standard library)\n",
    "\n",
    "Total questions: 6<br/>\n",
    "Total points: 10"
   ]
  },
  {
   "cell_type": "markdown",
   "id": "583e189d",
   "metadata": {
    "deletable": false,
    "editable": false,
    "nbgrader": {
     "cell_type": "markdown",
     "checksum": "5c8f813ea6b530c6a5e03f18da062da2",
     "grade": false,
     "grade_id": "cell-47dc0874aad1119d",
     "locked": true,
     "schema_version": 3,
     "solution": false,
     "task": false
    }
   },
   "source": [
    "## Question 1\n",
    "\n",
    "Write a function called `get_api_header_data` that calls `http://numbersapi.com/21/trivia`, and returns a `dict` of the following keys, with the values found in the response's headers:\n",
    "\n",
    "* `\"Server\"`\n",
    "* `\"Content-Type\"`\n",
    "* `\"Content-Length\"`\n",
    "\n",
    "[1 point]"
   ]
  },
  {
   "cell_type": "code",
   "execution_count": 1,
   "id": "7751a535",
   "metadata": {
    "deletable": false,
    "nbgrader": {
     "cell_type": "code",
     "checksum": "e9945e7217be094c20fc838664663e8a",
     "grade": false,
     "grade_id": "cell-78fe22ec38155fd7",
     "locked": false,
     "schema_version": 3,
     "solution": true,
     "task": false
    }
   },
   "outputs": [],
   "source": [
    "import requests\n",
    "\n",
    "def get_api_header_data():\n",
    " \n",
    "    url = \"http://numbersapi.com/21/trivia\"\n",
    "    \n",
    "    response = requests.get(url)\n",
    "    \n",
    "    headers = response.headers\n",
    "    \n",
    "    return {\n",
    "        \"Server\": headers.get(\"Server\"),\n",
    "        \"Content-Type\": headers.get(\"Content-Type\"),\n",
    "        \"Content-Length\": headers.get(\"Content-Length\")\n",
    "    }\n",
    " \n"
   ]
  },
  {
   "cell_type": "code",
   "execution_count": 2,
   "id": "af85d16d",
   "metadata": {
    "deletable": false,
    "editable": false,
    "nbgrader": {
     "cell_type": "code",
     "checksum": "d486c47f3edde1660239413f5d175d21",
     "grade": true,
     "grade_id": "cell-6afcd272331ca2b3",
     "locked": true,
     "points": 0.25,
     "schema_version": 3,
     "solution": false,
     "task": false
    }
   },
   "outputs": [],
   "source": [
    "### BEGIN TESTS\n",
    "\n",
    "# Ensure the returned result is a dictionary\n",
    "result = get_api_header_data()\n",
    "assert isinstance(result, dict)\n",
    "\n",
    "### END TESTS"
   ]
  },
  {
   "cell_type": "code",
   "execution_count": 3,
   "id": "b5f9e118",
   "metadata": {
    "deletable": false,
    "editable": false,
    "nbgrader": {
     "cell_type": "code",
     "checksum": "9cc39b9068e3f798e38fd42206b20ca9",
     "grade": true,
     "grade_id": "cell-0a487f3331ba0032",
     "locked": true,
     "points": 0.75,
     "schema_version": 3,
     "solution": false,
     "task": false
    }
   },
   "outputs": [],
   "source": [
    "# CELL INTENTIONALLY LEFT BLANK - DO NOT ALTER OR DELETE"
   ]
  },
  {
   "cell_type": "markdown",
   "id": "7c6e7741",
   "metadata": {
    "deletable": false,
    "editable": false,
    "nbgrader": {
     "cell_type": "markdown",
     "checksum": "95e7e15992731ab5ef03aca08412d8a7",
     "grade": false,
     "grade_id": "cell-ff4e1bfc8e804006",
     "locked": true,
     "schema_version": 3,
     "solution": false,
     "task": false
    }
   },
   "source": [
    "## Question 2\n",
    "\n",
    "Write a function called `post_data` that takes one argument, `data` (a dictionary), and returns a `requests.Response` object.\n",
    "\n",
    "This function should submit a `POST` request to the url `https://httpbin.org/post`. The request should post the `data` argument as JSON. It should also set the headers `\"Content-Type\"` and `\"Accept\"` to the appropriate [MIME type](https://developer.mozilla.org/en-US/docs/Web/HTTP/Basics_of_HTTP/MIME_types) for sending JSON data. Finally, it should return the response received from the post request.\n",
    "\n",
    "[2 points]"
   ]
  },
  {
   "cell_type": "code",
   "execution_count": 4,
   "id": "9a8b9931",
   "metadata": {
    "deletable": false,
    "nbgrader": {
     "cell_type": "code",
     "checksum": "c512bb6b8807686fb473df478fa4bcba",
     "grade": false,
     "grade_id": "cell-d6d966ea2aa3b640",
     "locked": false,
     "schema_version": 3,
     "solution": true,
     "task": false
    }
   },
   "outputs": [],
   "source": [
    "import json\n",
    "import requests\n",
    " \n",
    "\n",
    "def post_data(data):\n",
    "    url = \"https://httpbin.org/post\"\n",
    "    headers = {\n",
    "        \"Content-Type\": \"application/json\",\n",
    "        \"Accept\": \"application/json\"\n",
    "    }\n",
    "    response = requests.post(url, json=data, headers=headers)\n",
    "    return response\n",
    " \n"
   ]
  },
  {
   "cell_type": "code",
   "execution_count": 5,
   "id": "15615e4b",
   "metadata": {
    "deletable": false,
    "editable": false,
    "nbgrader": {
     "cell_type": "code",
     "checksum": "86d3b77b72cff2f01a4734eb81f69cbc",
     "grade": true,
     "grade_id": "cell-e06077ec90bf55e3",
     "locked": true,
     "points": 0.5,
     "schema_version": 3,
     "solution": false,
     "task": false
    }
   },
   "outputs": [],
   "source": [
    "### BEGIN TESTS\n",
    "\n",
    "result = post_data({\"foo\": \"bar\", \"baz\": \"blah\"})\n",
    "\n",
    "# Ensure the correct type is returned\n",
    "assert isinstance(result, requests.Response)\n",
    "\n",
    "# Ensure the correct request method was used\n",
    "assert \"POST\" == result.request.method\n",
    "### END TESTS"
   ]
  },
  {
   "cell_type": "code",
   "execution_count": 6,
   "id": "df34d777",
   "metadata": {
    "deletable": false,
    "editable": false,
    "nbgrader": {
     "cell_type": "code",
     "checksum": "7739f42404da73a4b863dc5346df5e05",
     "grade": true,
     "grade_id": "cell-49221d944484c1ce",
     "locked": true,
     "points": 1,
     "schema_version": 3,
     "solution": false,
     "task": false
    }
   },
   "outputs": [],
   "source": [
    "# CELL INTENTIONALLY LEFT BLANK - DO NOT ALTER OR DELETE"
   ]
  },
  {
   "cell_type": "code",
   "execution_count": 7,
   "id": "48953ed1",
   "metadata": {
    "deletable": false,
    "editable": false,
    "nbgrader": {
     "cell_type": "code",
     "checksum": "c7c8203b0bb17d36d23d30f169c3d1da",
     "grade": true,
     "grade_id": "cell-a3a3dff35774c688",
     "locked": true,
     "points": 0.5,
     "schema_version": 3,
     "solution": false,
     "task": false
    }
   },
   "outputs": [],
   "source": [
    "# CELL INTENTIONALLY LEFT BLANK - DO NOT ALTER OR DELETE"
   ]
  },
  {
   "cell_type": "markdown",
   "id": "c71db233",
   "metadata": {
    "deletable": false,
    "editable": false,
    "nbgrader": {
     "cell_type": "markdown",
     "checksum": "80a7d4321e0bf7541d5e0310d6b44e6a",
     "grade": false,
     "grade_id": "cell-7db17695491590e6",
     "locked": true,
     "schema_version": 3,
     "solution": false,
     "task": false
    }
   },
   "source": [
    "## Question 3\n",
    "\n",
    "Define a function called `get_html` that returns an HTML string. The HTML returned should contain the following HTML elements:\n",
    "\n",
    "* Three paragraphs\n",
    "* One photo\n",
    "* Three hypertext reference link\n",
    "\n",
    "The paragraphs and link elements must contain content. The HTML returned must be valid HTML (you can use [this HTML validator](https://validator.w3.org/nu/#textarea) to check if your HTML is valid), and must contain all necessary container tags.\n",
    "\n",
    "[2 points]"
   ]
  },
  {
   "cell_type": "code",
   "execution_count": 8,
   "id": "31718d3b",
   "metadata": {
    "deletable": false,
    "nbgrader": {
     "cell_type": "code",
     "checksum": "c2ccf3fe8178412146a0e08f11094505",
     "grade": false,
     "grade_id": "cell-b892e4f3515eb890",
     "locked": false,
     "schema_version": 3,
     "solution": true,
     "task": false
    }
   },
   "outputs": [],
   "source": [
    "def get_html():\n",
    " \n",
    "    html_content = \"\"\"\n",
    "    <!DOCTYPE html>\n",
    "    <html lang=\"en\">\n",
    "    <head>\n",
    "        <meta charset=\"UTF-8\">\n",
    "        <meta http-equiv=\"X-UA-Compatible\" content=\"IE=edge\">\n",
    "        <meta name=\"viewport\" content=\"width=device-width, initial-scale=1.0\">\n",
    "        <title>Sample HTML</title>\n",
    "    </head>\n",
    "    <body>\n",
    "        <p>This is the first paragraph.</p>\n",
    "        <p>This is the second paragraph.</p>\n",
    "        <p>This is the third paragraph.</p>\n",
    "        \n",
    "        <img src=\"https://via.placeholder.com/150\" alt=\"Sample Image\">\n",
    "        \n",
    "        <a href=\"https://example.com/1\">First link</a><br>\n",
    "        <a href=\"https://example.com/2\">Second link</a><br>\n",
    "        <a href=\"https://example.com/3\">Third link</a>\n",
    "    </body>\n",
    "    </html>\n",
    "    \"\"\"\n",
    "    return html_content\n",
    " \n"
   ]
  },
  {
   "cell_type": "code",
   "execution_count": 9,
   "id": "d545a1b5",
   "metadata": {
    "deletable": false,
    "editable": false,
    "nbgrader": {
     "cell_type": "code",
     "checksum": "8d2b85e39acaf62c18bb3d416b64e86f",
     "grade": true,
     "grade_id": "cell-36473408b41a579b",
     "locked": true,
     "points": 0.5,
     "schema_version": 3,
     "solution": false,
     "task": false
    }
   },
   "outputs": [],
   "source": [
    "### BEGIN TESTS\n",
    "\n",
    "# Ensure the HTML has the correct header\n",
    "html = get_html()\n",
    "# first normalize possible correct implementations\n",
    "cleaned_html = ' '.join(html.split()).strip().lower()\n",
    "# then assert that it starts with the expected header\n",
    "assert cleaned_html.startswith(\"<!doctype html>\")\n",
    "\n",
    "### END TESTS"
   ]
  },
  {
   "cell_type": "code",
   "execution_count": 10,
   "id": "d3d08cc2",
   "metadata": {
    "deletable": false,
    "editable": false,
    "nbgrader": {
     "cell_type": "code",
     "checksum": "d32b5ccaf3df5a99688d9dc321476a09",
     "grade": true,
     "grade_id": "cell-188d642cef7a78e1",
     "locked": true,
     "points": 0.5,
     "schema_version": 3,
     "solution": false,
     "task": false
    }
   },
   "outputs": [],
   "source": [
    "# CELL INTENTIONALLY LEFT BLANK - DO NOT ALTER OR DELETE"
   ]
  },
  {
   "cell_type": "code",
   "execution_count": 11,
   "id": "b7b729ee",
   "metadata": {
    "deletable": false,
    "editable": false,
    "nbgrader": {
     "cell_type": "code",
     "checksum": "30b2919e32048542f43ec8c2c6d6426c",
     "grade": true,
     "grade_id": "cell-9ff6f69855ec4a55",
     "locked": true,
     "points": 0.5,
     "schema_version": 3,
     "solution": false,
     "task": false
    }
   },
   "outputs": [],
   "source": [
    "# CELL INTENTIONALLY LEFT BLANK - DO NOT ALTER OR DELETE"
   ]
  },
  {
   "cell_type": "code",
   "execution_count": 12,
   "id": "5eb52db2",
   "metadata": {
    "deletable": false,
    "editable": false,
    "nbgrader": {
     "cell_type": "code",
     "checksum": "9ee7b0be26d8a8cde3af7b6105375f0d",
     "grade": true,
     "grade_id": "cell-994c99ea4e753c3e",
     "locked": true,
     "points": 0.5,
     "schema_version": 3,
     "solution": false,
     "task": false
    }
   },
   "outputs": [],
   "source": [
    "# CELL INTENTIONALLY LEFT BLANK - DO NOT ALTER OR DELETE"
   ]
  },
  {
   "cell_type": "markdown",
   "id": "33eebe20",
   "metadata": {
    "deletable": false,
    "editable": false,
    "nbgrader": {
     "cell_type": "markdown",
     "checksum": "856fe6b8bfd729dcd86150e9d58d6717",
     "grade": false,
     "grade_id": "cell-69ef98d4e0634323",
     "locked": true,
     "schema_version": 3,
     "solution": false,
     "task": false
    }
   },
   "source": [
    "## Question 4\n",
    "\n",
    "Write a function called `ones` which takes two arguments, `m` and `n`, and produces an `m` row by `n` column JSON array-of-arrays, with all elements being 1.\n",
    "\n",
    "For example:\n",
    "\n",
    "```py\n",
    ">>> ones(2, 2)\n",
    "'[[1, 1], [1, 1]]'\n",
    "```\n",
    "\n",
    "Another example:\n",
    "\n",
    "```py\n",
    ">>> ones(1, 4)\n",
    "'[[1, 1, 1, 1]]'\n",
    "```\n",
    "\n",
    "You may assume that `m` and `n` will only ever be a positive integer.\n",
    "\n",
    "[1 points]"
   ]
  },
  {
   "cell_type": "code",
   "execution_count": 13,
   "id": "de5ad987",
   "metadata": {
    "deletable": false,
    "nbgrader": {
     "cell_type": "code",
     "checksum": "8b349f1539ad47846087dd577d15b75d",
     "grade": false,
     "grade_id": "cell-2a42f665e3357716",
     "locked": false,
     "schema_version": 3,
     "solution": true,
     "task": false
    }
   },
   "outputs": [],
   "source": [
    "import json\n",
    "\n",
    "def ones(m, n):\n",
    "    # Using a nested list comprehension to generate the 2D list\n",
    "    result = [[1] * n for _ in range(m)]\n",
    "    # Convert the 2D list to a JSON string and return it\n",
    "    return json.dumps(result)\n",
    "\n",
    " \n"
   ]
  },
  {
   "cell_type": "code",
   "execution_count": 14,
   "id": "76e62036",
   "metadata": {
    "deletable": false,
    "editable": false,
    "nbgrader": {
     "cell_type": "code",
     "checksum": "ac543adf2fd803b0ae5acbb6fbf8d8db",
     "grade": true,
     "grade_id": "cell-90f45928852f1c93",
     "locked": true,
     "points": 0.5,
     "schema_version": 3,
     "solution": false,
     "task": false
    }
   },
   "outputs": [],
   "source": [
    "### BEGIN TESTS\n",
    "assert json.loads(ones(2, 2)) == [[1, 1], [1, 1]]\n",
    "assert json.loads(ones(1, 4)) == [[1, 1, 1, 1]]\n",
    "### END TESTS"
   ]
  },
  {
   "cell_type": "code",
   "execution_count": 15,
   "id": "f17b6d42",
   "metadata": {
    "deletable": false,
    "editable": false,
    "nbgrader": {
     "cell_type": "code",
     "checksum": "e70e02db2790345f98339b322e4019d0",
     "grade": true,
     "grade_id": "cell-3970c98b36c769fc",
     "locked": true,
     "points": 0.5,
     "schema_version": 3,
     "solution": false,
     "task": false
    }
   },
   "outputs": [],
   "source": [
    "# CELL INTENTIONALLY LEFT BLANK - DO NOT ALTER OR DELETE"
   ]
  },
  {
   "cell_type": "markdown",
   "id": "ac380b88",
   "metadata": {
    "deletable": false,
    "editable": false,
    "nbgrader": {
     "cell_type": "markdown",
     "checksum": "4c5d159bfa7ecf46c7442777190a521c",
     "grade": false,
     "grade_id": "cell-5055effbfff0d4a5",
     "locked": true,
     "schema_version": 3,
     "solution": false,
     "task": false
    }
   },
   "source": [
    "## Question 5\n",
    "\n",
    "As practice to help prepare your final project, write a function called `parse_nyc_firehouse_data`. It should call the `get_firehouse_data` function already defined for you, and returns a `list` of `dict`s, one for each firehouse returned. Each `dict` should have 1 key, the facility name (`str`) of the firehouse, mapped to one value, a `tuple` of (latitude, longitude) of where that firehouse is located.\n",
    "\n",
    "Use `json` to parse the response returned by `get_firehouse_data`. Do not include any other pieces of data for each firehouse. \n",
    "\n",
    "You may want to read more about the firehouse data [here](https://data.cityofnewyork.us/Public-Safety/FDNY-Firehouse-Listing/hc8x-tcnd).\n",
    "\n",
    "[2 points]"
   ]
  },
  {
   "cell_type": "code",
   "execution_count": 16,
   "id": "516e6fa5",
   "metadata": {
    "deletable": false,
    "nbgrader": {
     "cell_type": "code",
     "checksum": "fa38fa657a239c887976f17603dba0c8",
     "grade": false,
     "grade_id": "cell-fe350c0dd85a3d9b",
     "locked": false,
     "schema_version": 3,
     "solution": true,
     "task": false
    }
   },
   "outputs": [],
   "source": [
    "import json\n",
    "import requests\n",
    "\n",
    "FIREHOUSE_URL = \"https://data.cityofnewyork.us/resource/hc8x-tcnd.json\"\n",
    "\n",
    "def get_firehouse_data():\n",
    "    response = requests.get(FIREHOUSE_URL)\n",
    "    data = response.text\n",
    "    return data\n",
    "\n",
    "def parse_nyc_firehouse_data():\n",
    "    data = get_firehouse_data()\n",
    "    parsed_data = json.loads(data)\n",
    "    \n",
    "    firehouses = []\n",
    "    \n",
    "    for firehouse in parsed_data:\n",
    "        facility_name = firehouse['facilityname']\n",
    "        latitude = float(firehouse['latitude'])\n",
    "        longitude = float(firehouse['longitude'])\n",
    "        firehouses.append({facility_name: (latitude, longitude)})\n",
    "    \n",
    "    return firehouses\n"
   ]
  },
  {
   "cell_type": "code",
   "execution_count": 17,
   "id": "5c5a6af7",
   "metadata": {
    "deletable": false,
    "editable": false,
    "nbgrader": {
     "cell_type": "code",
     "checksum": "f13a8f397e6a11c9cc0baaf4f5774b83",
     "grade": true,
     "grade_id": "cell-cbc5ea0a22c7c14a",
     "locked": true,
     "points": 0.5,
     "schema_version": 3,
     "solution": false,
     "task": false
    }
   },
   "outputs": [],
   "source": [
    "### BEGIN TESTS\n",
    "\n",
    "result = parse_nyc_firehouse_data()\n",
    "\n",
    "# Ensure the returned results are the expected type\n",
    "assert isinstance(result, list)\n",
    "assert len(result) > 0\n",
    "assert isinstance(result[0], dict)\n",
    "\n",
    "### END TESTS"
   ]
  },
  {
   "cell_type": "code",
   "execution_count": 18,
   "id": "aee35356",
   "metadata": {
    "deletable": false,
    "editable": false,
    "nbgrader": {
     "cell_type": "code",
     "checksum": "148582faab02d4efc7d86ed82b1aa6e4",
     "grade": true,
     "grade_id": "cell-b518a2613c0d722a",
     "locked": true,
     "points": 0.5,
     "schema_version": 3,
     "solution": false,
     "task": false
    }
   },
   "outputs": [],
   "source": [
    "# CELL INTENTIONALLY LEFT BLANK - DO NOT ALTER OR DELETE"
   ]
  },
  {
   "cell_type": "code",
   "execution_count": 19,
   "id": "2a61a922",
   "metadata": {
    "deletable": false,
    "editable": false,
    "nbgrader": {
     "cell_type": "code",
     "checksum": "c99d397ed8abe168678cce03ceb43839",
     "grade": true,
     "grade_id": "cell-9f9a1a8108ac28af",
     "locked": true,
     "points": 1,
     "schema_version": 3,
     "solution": false,
     "task": false
    }
   },
   "outputs": [],
   "source": [
    "# CELL INTENTIONALLY LEFT BLANK - DO NOT ALTER OR DELETE"
   ]
  },
  {
   "cell_type": "markdown",
   "id": "6a16b52a",
   "metadata": {
    "deletable": false,
    "editable": false,
    "nbgrader": {
     "cell_type": "markdown",
     "checksum": "3158925848d93201c78203daa478360e",
     "grade": false,
     "grade_id": "cell-2704054c55559f97",
     "locked": true,
     "schema_version": 3,
     "solution": false,
     "task": false
    }
   },
   "source": [
    "## Question 6\n",
    "\n",
    "Write a function called `find_taxi_parquet_links`. It should call the `get_taxi_html` function already defined for you (which returns the entire HTML of the NYC taxi data website used for your final project), and returns a `list` of `str`s of all links for _both_ Yellow and Green taxi trip records. \n",
    "\n",
    "Use BeautifulSoup to parse the HTML returned by `get_taxi_html`. Do not include any other types of links, including for-hire vehicle trip records.\n",
    "\n",
    "[2 points]"
   ]
  },
  {
   "cell_type": "code",
   "execution_count": 20,
   "id": "e8cce6a3",
   "metadata": {
    "deletable": false,
    "nbgrader": {
     "cell_type": "code",
     "checksum": "d3ccfd141b5f539b55f7dfaf68847fa2",
     "grade": false,
     "grade_id": "cell-21fd751b5b86e37a",
     "locked": false,
     "schema_version": 3,
     "solution": true,
     "task": false
    }
   },
   "outputs": [
    {
     "name": "stdout",
     "output_type": "stream",
     "text": [
      "['https://d37ci6vzurychx.cloudfront.net/trip-data/yellow_tripdata_2023-01.parquet', 'https://d37ci6vzurychx.cloudfront.net/trip-data/green_tripdata_2023-01.parquet', 'https://d37ci6vzurychx.cloudfront.net/trip-data/yellow_tripdata_2023-02.parquet', 'https://d37ci6vzurychx.cloudfront.net/trip-data/green_tripdata_2023-02.parquet', 'https://d37ci6vzurychx.cloudfront.net/trip-data/yellow_tripdata_2023-03.parquet', 'https://d37ci6vzurychx.cloudfront.net/trip-data/yellow_tripdata_2023-04.parquet', 'https://d37ci6vzurychx.cloudfront.net/trip-data/green_tripdata_2023-04.parquet', 'https://d37ci6vzurychx.cloudfront.net/trip-data/yellow_tripdata_2023-06.parquet', 'https://d37ci6vzurychx.cloudfront.net/trip-data/green_tripdata_2023-06.parquet', 'https://d37ci6vzurychx.cloudfront.net/trip-data/yellow_tripdata_2022-01.parquet', 'https://d37ci6vzurychx.cloudfront.net/trip-data/green_tripdata_2022-01.parquet', 'https://d37ci6vzurychx.cloudfront.net/trip-data/yellow_tripdata_2022-02.parquet', 'https://d37ci6vzurychx.cloudfront.net/trip-data/green_tripdata_2022-02.parquet', 'https://d37ci6vzurychx.cloudfront.net/trip-data/yellow_tripdata_2022-03.parquet', 'https://d37ci6vzurychx.cloudfront.net/trip-data/green_tripdata_2022-03.parquet', 'https://d37ci6vzurychx.cloudfront.net/trip-data/yellow_tripdata_2022-04.parquet', 'https://d37ci6vzurychx.cloudfront.net/trip-data/green_tripdata_2022-04.parquet', 'https://d37ci6vzurychx.cloudfront.net/trip-data/yellow_tripdata_2022-05.parquet', 'https://d37ci6vzurychx.cloudfront.net/trip-data/green_tripdata_2022-05.parquet', 'https://d37ci6vzurychx.cloudfront.net/trip-data/yellow_tripdata_2022-06.parquet', 'https://d37ci6vzurychx.cloudfront.net/trip-data/green_tripdata_2022-06.parquet', 'https://d37ci6vzurychx.cloudfront.net/trip-data/yellow_tripdata_2022-07.parquet', 'https://d37ci6vzurychx.cloudfront.net/trip-data/green_tripdata_2022-07.parquet', 'https://d37ci6vzurychx.cloudfront.net/trip-data/yellow_tripdata_2022-08.parquet', 'https://d37ci6vzurychx.cloudfront.net/trip-data/green_tripdata_2022-08.parquet', 'https://d37ci6vzurychx.cloudfront.net/trip-data/yellow_tripdata_2022-09.parquet', 'https://d37ci6vzurychx.cloudfront.net/trip-data/green_tripdata_2022-09.parquet', 'https://d37ci6vzurychx.cloudfront.net/trip-data/yellow_tripdata_2022-10.parquet', 'https://d37ci6vzurychx.cloudfront.net/trip-data/green_tripdata_2022-10.parquet', 'https://d37ci6vzurychx.cloudfront.net/trip-data/yellow_tripdata_2022-11.parquet', 'https://d37ci6vzurychx.cloudfront.net/trip-data/green_tripdata_2022-11.parquet', 'https://d37ci6vzurychx.cloudfront.net/trip-data/yellow_tripdata_2022-12.parquet', 'https://d37ci6vzurychx.cloudfront.net/trip-data/green_tripdata_2022-12.parquet', 'https://d37ci6vzurychx.cloudfront.net/trip-data/yellow_tripdata_2021-01.parquet', 'https://d37ci6vzurychx.cloudfront.net/trip-data/green_tripdata_2021-01.parquet', 'https://d37ci6vzurychx.cloudfront.net/trip-data/yellow_tripdata_2021-02.parquet', 'https://d37ci6vzurychx.cloudfront.net/trip-data/green_tripdata_2021-02.parquet', 'https://d37ci6vzurychx.cloudfront.net/trip-data/yellow_tripdata_2021-03.parquet', 'https://d37ci6vzurychx.cloudfront.net/trip-data/green_tripdata_2021-03.parquet', 'https://d37ci6vzurychx.cloudfront.net/trip-data/yellow_tripdata_2021-04.parquet', 'https://d37ci6vzurychx.cloudfront.net/trip-data/green_tripdata_2021-04.parquet', 'https://d37ci6vzurychx.cloudfront.net/trip-data/yellow_tripdata_2021-05.parquet', 'https://d37ci6vzurychx.cloudfront.net/trip-data/green_tripdata_2021-05.parquet', 'https://d37ci6vzurychx.cloudfront.net/trip-data/yellow_tripdata_2021-06.parquet', 'https://d37ci6vzurychx.cloudfront.net/trip-data/green_tripdata_2021-06.parquet', 'https://d37ci6vzurychx.cloudfront.net/trip-data/yellow_tripdata_2021-07.parquet', 'https://d37ci6vzurychx.cloudfront.net/trip-data/green_tripdata_2021-07.parquet', 'https://d37ci6vzurychx.cloudfront.net/trip-data/yellow_tripdata_2021-08.parquet', 'https://d37ci6vzurychx.cloudfront.net/trip-data/green_tripdata_2021-08.parquet', 'https://d37ci6vzurychx.cloudfront.net/trip-data/yellow_tripdata_2021-09.parquet', 'https://d37ci6vzurychx.cloudfront.net/trip-data/green_tripdata_2021-09.parquet', 'https://d37ci6vzurychx.cloudfront.net/trip-data/yellow_tripdata_2021-10.parquet', 'https://d37ci6vzurychx.cloudfront.net/trip-data/green_tripdata_2021-10.parquet', 'https://d37ci6vzurychx.cloudfront.net/trip-data/yellow_tripdata_2021-11.parquet', 'https://d37ci6vzurychx.cloudfront.net/trip-data/green_tripdata_2021-11.parquet', 'https://d37ci6vzurychx.cloudfront.net/trip-data/yellow_tripdata_2021-12.parquet', 'https://d37ci6vzurychx.cloudfront.net/trip-data/green_tripdata_2021-12.parquet', 'https://d37ci6vzurychx.cloudfront.net/trip-data/yellow_tripdata_2020-01.parquet', 'https://d37ci6vzurychx.cloudfront.net/trip-data/green_tripdata_2020-01.parquet', 'https://d37ci6vzurychx.cloudfront.net/trip-data/yellow_tripdata_2020-02.parquet', 'https://d37ci6vzurychx.cloudfront.net/trip-data/green_tripdata_2020-02.parquet', 'https://d37ci6vzurychx.cloudfront.net/trip-data/yellow_tripdata_2020-03.parquet', 'https://d37ci6vzurychx.cloudfront.net/trip-data/green_tripdata_2020-03.parquet', 'https://d37ci6vzurychx.cloudfront.net/trip-data/yellow_tripdata_2020-04.parquet', 'https://d37ci6vzurychx.cloudfront.net/trip-data/green_tripdata_2020-04.parquet', 'https://d37ci6vzurychx.cloudfront.net/trip-data/yellow_tripdata_2020-05.parquet', 'https://d37ci6vzurychx.cloudfront.net/trip-data/green_tripdata_2020-05.parquet', 'https://d37ci6vzurychx.cloudfront.net/trip-data/yellow_tripdata_2020-06.parquet', 'https://d37ci6vzurychx.cloudfront.net/trip-data/green_tripdata_2020-06.parquet', 'https://d37ci6vzurychx.cloudfront.net/trip-data/yellow_tripdata_2020-07.parquet', 'https://d37ci6vzurychx.cloudfront.net/trip-data/green_tripdata_2020-07.parquet', 'https://d37ci6vzurychx.cloudfront.net/trip-data/yellow_tripdata_2020-08.parquet', 'https://d37ci6vzurychx.cloudfront.net/trip-data/green_tripdata_2020-08.parquet', 'https://d37ci6vzurychx.cloudfront.net/trip-data/yellow_tripdata_2020-09.parquet', 'https://d37ci6vzurychx.cloudfront.net/trip-data/green_tripdata_2020-09.parquet', 'https://d37ci6vzurychx.cloudfront.net/trip-data/yellow_tripdata_2020-10.parquet', 'https://d37ci6vzurychx.cloudfront.net/trip-data/green_tripdata_2020-10.parquet', 'https://d37ci6vzurychx.cloudfront.net/trip-data/yellow_tripdata_2020-11.parquet', 'https://d37ci6vzurychx.cloudfront.net/trip-data/green_tripdata_2020-11.parquet', 'https://d37ci6vzurychx.cloudfront.net/trip-data/yellow_tripdata_2020-12.parquet', 'https://d37ci6vzurychx.cloudfront.net/trip-data/green_tripdata_2020-12.parquet', 'https://d37ci6vzurychx.cloudfront.net/trip-data/yellow_tripdata_2019-01.parquet', 'https://d37ci6vzurychx.cloudfront.net/trip-data/green_tripdata_2019-01.parquet', 'https://d37ci6vzurychx.cloudfront.net/trip-data/yellow_tripdata_2019-02.parquet', 'https://d37ci6vzurychx.cloudfront.net/trip-data/green_tripdata_2019-02.parquet', 'https://d37ci6vzurychx.cloudfront.net/trip-data/yellow_tripdata_2019-03.parquet', 'https://d37ci6vzurychx.cloudfront.net/trip-data/green_tripdata_2019-03.parquet', 'https://d37ci6vzurychx.cloudfront.net/trip-data/yellow_tripdata_2019-04.parquet', 'https://d37ci6vzurychx.cloudfront.net/trip-data/green_tripdata_2019-04.parquet', 'https://d37ci6vzurychx.cloudfront.net/trip-data/yellow_tripdata_2019-05.parquet', 'https://d37ci6vzurychx.cloudfront.net/trip-data/green_tripdata_2019-05.parquet', 'https://d37ci6vzurychx.cloudfront.net/trip-data/yellow_tripdata_2019-06.parquet', 'https://d37ci6vzurychx.cloudfront.net/trip-data/green_tripdata_2019-06.parquet', 'https://d37ci6vzurychx.cloudfront.net/trip-data/yellow_tripdata_2019-07.parquet', 'https://d37ci6vzurychx.cloudfront.net/trip-data/green_tripdata_2019-07.parquet', 'https://d37ci6vzurychx.cloudfront.net/trip-data/yellow_tripdata_2019-08.parquet', 'https://d37ci6vzurychx.cloudfront.net/trip-data/green_tripdata_2019-08.parquet', 'https://d37ci6vzurychx.cloudfront.net/trip-data/yellow_tripdata_2019-09.parquet', 'https://d37ci6vzurychx.cloudfront.net/trip-data/green_tripdata_2019-09.parquet', 'https://d37ci6vzurychx.cloudfront.net/trip-data/yellow_tripdata_2019-10.parquet', 'https://d37ci6vzurychx.cloudfront.net/trip-data/green_tripdata_2019-10.parquet', 'https://d37ci6vzurychx.cloudfront.net/trip-data/yellow_tripdata_2019-11.parquet', 'https://d37ci6vzurychx.cloudfront.net/trip-data/green_tripdata_2019-11.parquet', 'https://d37ci6vzurychx.cloudfront.net/trip-data/yellow_tripdata_2019-12.parquet', 'https://d37ci6vzurychx.cloudfront.net/trip-data/green_tripdata_2019-12.parquet', 'https://d37ci6vzurychx.cloudfront.net/trip-data/yellow_tripdata_2018-01.parquet', 'https://d37ci6vzurychx.cloudfront.net/trip-data/green_tripdata_2018-01.parquet', 'https://d37ci6vzurychx.cloudfront.net/trip-data/yellow_tripdata_2018-02.parquet', 'https://d37ci6vzurychx.cloudfront.net/trip-data/green_tripdata_2018-02.parquet', 'https://d37ci6vzurychx.cloudfront.net/trip-data/yellow_tripdata_2018-03.parquet', 'https://d37ci6vzurychx.cloudfront.net/trip-data/green_tripdata_2018-03.parquet', 'https://d37ci6vzurychx.cloudfront.net/trip-data/yellow_tripdata_2018-04.parquet', 'https://d37ci6vzurychx.cloudfront.net/trip-data/green_tripdata_2018-04.parquet', 'https://d37ci6vzurychx.cloudfront.net/trip-data/yellow_tripdata_2018-05.parquet', 'https://d37ci6vzurychx.cloudfront.net/trip-data/green_tripdata_2018-05.parquet', 'https://d37ci6vzurychx.cloudfront.net/trip-data/yellow_tripdata_2018-06.parquet', 'https://d37ci6vzurychx.cloudfront.net/trip-data/green_tripdata_2018-06.parquet', 'https://d37ci6vzurychx.cloudfront.net/trip-data/yellow_tripdata_2018-07.parquet', 'https://d37ci6vzurychx.cloudfront.net/trip-data/green_tripdata_2018-07.parquet', 'https://d37ci6vzurychx.cloudfront.net/trip-data/yellow_tripdata_2018-08.parquet', 'https://d37ci6vzurychx.cloudfront.net/trip-data/green_tripdata_2018-08.parquet', 'https://d37ci6vzurychx.cloudfront.net/trip-data/yellow_tripdata_2018-09.parquet', 'https://d37ci6vzurychx.cloudfront.net/trip-data/green_tripdata_2018-09.parquet', 'https://d37ci6vzurychx.cloudfront.net/trip-data/yellow_tripdata_2018-10.parquet', 'https://d37ci6vzurychx.cloudfront.net/trip-data/green_tripdata_2018-10.parquet', 'https://d37ci6vzurychx.cloudfront.net/trip-data/yellow_tripdata_2018-11.parquet', 'https://d37ci6vzurychx.cloudfront.net/trip-data/green_tripdata_2018-11.parquet', 'https://d37ci6vzurychx.cloudfront.net/trip-data/yellow_tripdata_2018-12.parquet', 'https://d37ci6vzurychx.cloudfront.net/trip-data/green_tripdata_2018-12.parquet', 'https://d37ci6vzurychx.cloudfront.net/trip-data/yellow_tripdata_2017-01.parquet', 'https://d37ci6vzurychx.cloudfront.net/trip-data/green_tripdata_2017-01.parquet', 'https://d37ci6vzurychx.cloudfront.net/trip-data/yellow_tripdata_2017-02.parquet', 'https://d37ci6vzurychx.cloudfront.net/trip-data/green_tripdata_2017-02.parquet', 'https://d37ci6vzurychx.cloudfront.net/trip-data/yellow_tripdata_2017-03.parquet', 'https://d37ci6vzurychx.cloudfront.net/trip-data/green_tripdata_2017-03.parquet', 'https://d37ci6vzurychx.cloudfront.net/trip-data/yellow_tripdata_2017-04.parquet', 'https://d37ci6vzurychx.cloudfront.net/trip-data/green_tripdata_2017-04.parquet', 'https://d37ci6vzurychx.cloudfront.net/trip-data/yellow_tripdata_2017-05.parquet', 'https://d37ci6vzurychx.cloudfront.net/trip-data/green_tripdata_2017-05.parquet', 'https://d37ci6vzurychx.cloudfront.net/trip-data/yellow_tripdata_2017-06.parquet', 'https://d37ci6vzurychx.cloudfront.net/trip-data/green_tripdata_2017-06.parquet', 'https://d37ci6vzurychx.cloudfront.net/trip-data/yellow_tripdata_2017-07.parquet', 'https://d37ci6vzurychx.cloudfront.net/trip-data/green_tripdata_2017-07.parquet', 'https://d37ci6vzurychx.cloudfront.net/trip-data/yellow_tripdata_2017-08.parquet', 'https://d37ci6vzurychx.cloudfront.net/trip-data/green_tripdata_2017-08.parquet', 'https://d37ci6vzurychx.cloudfront.net/trip-data/yellow_tripdata_2017-09.parquet', 'https://d37ci6vzurychx.cloudfront.net/trip-data/green_tripdata_2017-09.parquet', 'https://d37ci6vzurychx.cloudfront.net/trip-data/yellow_tripdata_2017-10.parquet', 'https://d37ci6vzurychx.cloudfront.net/trip-data/green_tripdata_2017-10.parquet', 'https://d37ci6vzurychx.cloudfront.net/trip-data/yellow_tripdata_2017-11.parquet', 'https://d37ci6vzurychx.cloudfront.net/trip-data/green_tripdata_2017-11.parquet', 'https://d37ci6vzurychx.cloudfront.net/trip-data/yellow_tripdata_2017-12.parquet', 'https://d37ci6vzurychx.cloudfront.net/trip-data/green_tripdata_2017-12.parquet', 'https://d37ci6vzurychx.cloudfront.net/trip-data/yellow_tripdata_2016-01.parquet', 'https://d37ci6vzurychx.cloudfront.net/trip-data/green_tripdata_2016-01.parquet', 'https://d37ci6vzurychx.cloudfront.net/trip-data/yellow_tripdata_2016-02.parquet', 'https://d37ci6vzurychx.cloudfront.net/trip-data/green_tripdata_2016-02.parquet', 'https://d37ci6vzurychx.cloudfront.net/trip-data/yellow_tripdata_2016-03.parquet', 'https://d37ci6vzurychx.cloudfront.net/trip-data/green_tripdata_2016-03.parquet', 'https://d37ci6vzurychx.cloudfront.net/trip-data/yellow_tripdata_2016-04.parquet', 'https://d37ci6vzurychx.cloudfront.net/trip-data/green_tripdata_2016-04.parquet', 'https://d37ci6vzurychx.cloudfront.net/trip-data/yellow_tripdata_2016-05.parquet', 'https://d37ci6vzurychx.cloudfront.net/trip-data/green_tripdata_2016-05.parquet', 'https://d37ci6vzurychx.cloudfront.net/trip-data/yellow_tripdata_2016-06.parquet', 'https://d37ci6vzurychx.cloudfront.net/trip-data/green_tripdata_2016-06.parquet', 'https://d37ci6vzurychx.cloudfront.net/trip-data/yellow_tripdata_2016-07.parquet', 'https://d37ci6vzurychx.cloudfront.net/trip-data/green_tripdata_2016-07.parquet', 'https://d37ci6vzurychx.cloudfront.net/trip-data/yellow_tripdata_2016-08.parquet', 'https://d37ci6vzurychx.cloudfront.net/trip-data/green_tripdata_2016-08.parquet', 'https://d37ci6vzurychx.cloudfront.net/trip-data/yellow_tripdata_2016-09.parquet', 'https://d37ci6vzurychx.cloudfront.net/trip-data/green_tripdata_2016-09.parquet', 'https://d37ci6vzurychx.cloudfront.net/trip-data/yellow_tripdata_2016-10.parquet', 'https://d37ci6vzurychx.cloudfront.net/trip-data/green_tripdata_2016-10.parquet', 'https://d37ci6vzurychx.cloudfront.net/trip-data/yellow_tripdata_2016-11.parquet', 'https://d37ci6vzurychx.cloudfront.net/trip-data/green_tripdata_2016-11.parquet', 'https://d37ci6vzurychx.cloudfront.net/trip-data/yellow_tripdata_2016-12.parquet', 'https://d37ci6vzurychx.cloudfront.net/trip-data/green_tripdata_2016-12.parquet', 'https://d37ci6vzurychx.cloudfront.net/trip-data/yellow_tripdata_2015-01.parquet', 'https://d37ci6vzurychx.cloudfront.net/trip-data/green_tripdata_2015-01.parquet', 'https://d37ci6vzurychx.cloudfront.net/trip-data/yellow_tripdata_2015-02.parquet', 'https://d37ci6vzurychx.cloudfront.net/trip-data/green_tripdata_2015-02.parquet', 'https://d37ci6vzurychx.cloudfront.net/trip-data/yellow_tripdata_2015-03.parquet', 'https://d37ci6vzurychx.cloudfront.net/trip-data/green_tripdata_2015-03.parquet', 'https://d37ci6vzurychx.cloudfront.net/trip-data/yellow_tripdata_2015-04.parquet', 'https://d37ci6vzurychx.cloudfront.net/trip-data/green_tripdata_2015-04.parquet', 'https://d37ci6vzurychx.cloudfront.net/trip-data/yellow_tripdata_2015-05.parquet', 'https://d37ci6vzurychx.cloudfront.net/trip-data/green_tripdata_2015-05.parquet', 'https://d37ci6vzurychx.cloudfront.net/trip-data/yellow_tripdata_2015-06.parquet', 'https://d37ci6vzurychx.cloudfront.net/trip-data/green_tripdata_2015-06.parquet', 'https://d37ci6vzurychx.cloudfront.net/trip-data/yellow_tripdata_2015-07.parquet', 'https://d37ci6vzurychx.cloudfront.net/trip-data/green_tripdata_2015-07.parquet', 'https://d37ci6vzurychx.cloudfront.net/trip-data/yellow_tripdata_2015-08.parquet', 'https://d37ci6vzurychx.cloudfront.net/trip-data/green_tripdata_2015-08.parquet', 'https://d37ci6vzurychx.cloudfront.net/trip-data/yellow_tripdata_2015-09.parquet', 'https://d37ci6vzurychx.cloudfront.net/trip-data/green_tripdata_2015-09.parquet', 'https://d37ci6vzurychx.cloudfront.net/trip-data/yellow_tripdata_2015-10.parquet', 'https://d37ci6vzurychx.cloudfront.net/trip-data/green_tripdata_2015-10.parquet', 'https://d37ci6vzurychx.cloudfront.net/trip-data/yellow_tripdata_2015-11.parquet', 'https://d37ci6vzurychx.cloudfront.net/trip-data/green_tripdata_2015-11.parquet', 'https://d37ci6vzurychx.cloudfront.net/trip-data/yellow_tripdata_2015-12.parquet', 'https://d37ci6vzurychx.cloudfront.net/trip-data/green_tripdata_2015-12.parquet', 'https://d37ci6vzurychx.cloudfront.net/trip-data/yellow_tripdata_2014-01.parquet', 'https://d37ci6vzurychx.cloudfront.net/trip-data/green_tripdata_2014-01.parquet', 'https://d37ci6vzurychx.cloudfront.net/trip-data/yellow_tripdata_2014-02.parquet', 'https://d37ci6vzurychx.cloudfront.net/trip-data/green_tripdata_2014-02.parquet', 'https://d37ci6vzurychx.cloudfront.net/trip-data/yellow_tripdata_2014-03.parquet', 'https://d37ci6vzurychx.cloudfront.net/trip-data/green_tripdata_2014-03.parquet', 'https://d37ci6vzurychx.cloudfront.net/trip-data/yellow_tripdata_2014-04.parquet', 'https://d37ci6vzurychx.cloudfront.net/trip-data/green_tripdata_2014-04.parquet', 'https://d37ci6vzurychx.cloudfront.net/trip-data/yellow_tripdata_2014-05.parquet', 'https://d37ci6vzurychx.cloudfront.net/trip-data/green_tripdata_2014-05.parquet', 'https://d37ci6vzurychx.cloudfront.net/trip-data/yellow_tripdata_2014-06.parquet', 'https://d37ci6vzurychx.cloudfront.net/trip-data/green_tripdata_2014-06.parquet', 'https://d37ci6vzurychx.cloudfront.net/trip-data/yellow_tripdata_2014-07.parquet', 'https://d37ci6vzurychx.cloudfront.net/trip-data/green_tripdata_2014-07.parquet', 'https://d37ci6vzurychx.cloudfront.net/trip-data/yellow_tripdata_2014-08.parquet', 'https://d37ci6vzurychx.cloudfront.net/trip-data/green_tripdata_2014-08.parquet', 'https://d37ci6vzurychx.cloudfront.net/trip-data/yellow_tripdata_2014-09.parquet', 'https://d37ci6vzurychx.cloudfront.net/trip-data/green_tripdata_2014-09.parquet', 'https://d37ci6vzurychx.cloudfront.net/trip-data/yellow_tripdata_2014-10.parquet', 'https://d37ci6vzurychx.cloudfront.net/trip-data/green_tripdata_2014-10.parquet', 'https://d37ci6vzurychx.cloudfront.net/trip-data/yellow_tripdata_2014-11.parquet', 'https://d37ci6vzurychx.cloudfront.net/trip-data/green_tripdata_2014-11.parquet', 'https://d37ci6vzurychx.cloudfront.net/trip-data/yellow_tripdata_2014-12.parquet', 'https://d37ci6vzurychx.cloudfront.net/trip-data/green_tripdata_2014-12.parquet', 'https://d37ci6vzurychx.cloudfront.net/trip-data/yellow_tripdata_2013-01.parquet', 'https://d37ci6vzurychx.cloudfront.net/trip-data/yellow_tripdata_2013-02.parquet', 'https://d37ci6vzurychx.cloudfront.net/trip-data/yellow_tripdata_2013-03.parquet', 'https://d37ci6vzurychx.cloudfront.net/trip-data/yellow_tripdata_2013-04.parquet', 'https://d37ci6vzurychx.cloudfront.net/trip-data/yellow_tripdata_2013-05.parquet', 'https://d37ci6vzurychx.cloudfront.net/trip-data/yellow_tripdata_2013-06.parquet', 'https://d37ci6vzurychx.cloudfront.net/trip-data/yellow_tripdata_2013-07.parquet', 'https://d37ci6vzurychx.cloudfront.net/trip-data/yellow_tripdata_2013-08.parquet', 'https://d37ci6vzurychx.cloudfront.net/trip-data/green_tripdata_2013-08.parquet', 'https://d37ci6vzurychx.cloudfront.net/trip-data/yellow_tripdata_2013-09.parquet', 'https://d37ci6vzurychx.cloudfront.net/trip-data/green_tripdata_2013-09.parquet', 'https://d37ci6vzurychx.cloudfront.net/trip-data/yellow_tripdata_2013-10.parquet', 'https://d37ci6vzurychx.cloudfront.net/trip-data/green_tripdata_2013-10.parquet', 'https://d37ci6vzurychx.cloudfront.net/trip-data/yellow_tripdata_2013-11.parquet', 'https://d37ci6vzurychx.cloudfront.net/trip-data/green_tripdata_2013-11.parquet', 'https://d37ci6vzurychx.cloudfront.net/trip-data/yellow_tripdata_2013-12.parquet', 'https://d37ci6vzurychx.cloudfront.net/trip-data/green_tripdata_2013-12.parquet', 'https://d37ci6vzurychx.cloudfront.net/trip-data/yellow_tripdata_2012-01.parquet', 'https://d37ci6vzurychx.cloudfront.net/trip-data/yellow_tripdata_2012-02.parquet', 'https://d37ci6vzurychx.cloudfront.net/trip-data/yellow_tripdata_2012-03.parquet', 'https://d37ci6vzurychx.cloudfront.net/trip-data/yellow_tripdata_2012-04.parquet', 'https://d37ci6vzurychx.cloudfront.net/trip-data/yellow_tripdata_2012-05.parquet', 'https://d37ci6vzurychx.cloudfront.net/trip-data/yellow_tripdata_2012-06.parquet', 'https://d37ci6vzurychx.cloudfront.net/trip-data/yellow_tripdata_2012-07.parquet', 'https://d37ci6vzurychx.cloudfront.net/trip-data/yellow_tripdata_2012-08.parquet', 'https://d37ci6vzurychx.cloudfront.net/trip-data/yellow_tripdata_2012-09.parquet', 'https://d37ci6vzurychx.cloudfront.net/trip-data/yellow_tripdata_2012-10.parquet', 'https://d37ci6vzurychx.cloudfront.net/trip-data/yellow_tripdata_2012-11.parquet', 'https://d37ci6vzurychx.cloudfront.net/trip-data/yellow_tripdata_2012-12.parquet', 'https://d37ci6vzurychx.cloudfront.net/trip-data/yellow_tripdata_2011-01.parquet', 'https://d37ci6vzurychx.cloudfront.net/trip-data/yellow_tripdata_2011-02.parquet', 'https://d37ci6vzurychx.cloudfront.net/trip-data/yellow_tripdata_2011-03.parquet', 'https://d37ci6vzurychx.cloudfront.net/trip-data/yellow_tripdata_2011-04.parquet', 'https://d37ci6vzurychx.cloudfront.net/trip-data/yellow_tripdata_2011-05.parquet', 'https://d37ci6vzurychx.cloudfront.net/trip-data/yellow_tripdata_2011-06.parquet', 'https://d37ci6vzurychx.cloudfront.net/trip-data/yellow_tripdata_2011-07.parquet', 'https://d37ci6vzurychx.cloudfront.net/trip-data/yellow_tripdata_2011-08.parquet', 'https://d37ci6vzurychx.cloudfront.net/trip-data/yellow_tripdata_2011-09.parquet', 'https://d37ci6vzurychx.cloudfront.net/trip-data/yellow_tripdata_2011-10.parquet', 'https://d37ci6vzurychx.cloudfront.net/trip-data/yellow_tripdata_2011-11.parquet', 'https://d37ci6vzurychx.cloudfront.net/trip-data/yellow_tripdata_2011-12.parquet', 'https://d37ci6vzurychx.cloudfront.net/trip-data/yellow_tripdata_2010-01.parquet', 'https://d37ci6vzurychx.cloudfront.net/trip-data/yellow_tripdata_2010-02.parquet', 'https://d37ci6vzurychx.cloudfront.net/trip-data/yellow_tripdata_2010-03.parquet', 'https://d37ci6vzurychx.cloudfront.net/trip-data/yellow_tripdata_2010-04.parquet', 'https://d37ci6vzurychx.cloudfront.net/trip-data/yellow_tripdata_2010-05.parquet', 'https://d37ci6vzurychx.cloudfront.net/trip-data/yellow_tripdata_2010-06.parquet', 'https://d37ci6vzurychx.cloudfront.net/trip-data/yellow_tripdata_2010-07.parquet', 'https://d37ci6vzurychx.cloudfront.net/trip-data/yellow_tripdata_2010-08.parquet', 'https://d37ci6vzurychx.cloudfront.net/trip-data/yellow_tripdata_2010-09.parquet', 'https://d37ci6vzurychx.cloudfront.net/trip-data/yellow_tripdata_2010-10.parquet', 'https://d37ci6vzurychx.cloudfront.net/trip-data/yellow_tripdata_2010-11.parquet', 'https://d37ci6vzurychx.cloudfront.net/trip-data/yellow_tripdata_2010-12.parquet', 'https://d37ci6vzurychx.cloudfront.net/trip-data/yellow_tripdata_2009-01.parquet', 'https://d37ci6vzurychx.cloudfront.net/trip-data/yellow_tripdata_2009-02.parquet', 'https://d37ci6vzurychx.cloudfront.net/trip-data/yellow_tripdata_2009-03.parquet', 'https://d37ci6vzurychx.cloudfront.net/trip-data/yellow_tripdata_2009-04.parquet', 'https://d37ci6vzurychx.cloudfront.net/trip-data/yellow_tripdata_2009-05.parquet', 'https://d37ci6vzurychx.cloudfront.net/trip-data/yellow_tripdata_2009-06.parquet', 'https://d37ci6vzurychx.cloudfront.net/trip-data/yellow_tripdata_2009-07.parquet', 'https://d37ci6vzurychx.cloudfront.net/trip-data/yellow_tripdata_2009-08.parquet', 'https://d37ci6vzurychx.cloudfront.net/trip-data/yellow_tripdata_2009-09.parquet', 'https://d37ci6vzurychx.cloudfront.net/trip-data/yellow_tripdata_2009-10.parquet', 'https://d37ci6vzurychx.cloudfront.net/trip-data/yellow_tripdata_2009-11.parquet', 'https://d37ci6vzurychx.cloudfront.net/trip-data/yellow_tripdata_2009-12.parquet']\n"
     ]
    }
   ],
   "source": [
    "import bs4\n",
    "import requests\n",
    "\n",
    "from bs4 import BeautifulSoup\n",
    "TAXI_URL = \"https://www1.nyc.gov/site/tlc/about/tlc-trip-record-data.page\"\n",
    "\n",
    "\n",
    "def get_taxi_html():\n",
    "    response = requests.get(TAXI_URL)\n",
    "    html = response.content\n",
    "    return html\n",
    "\n",
    " \n",
    "\n",
    "def find_taxi_parquet_links():\n",
    "    # Get the raw HTML using the provided function\n",
    "    html_content = get_taxi_html()\n",
    "    \n",
    "    # Parse the HTML using BeautifulSoup\n",
    "    soup = BeautifulSoup(html_content, 'html.parser')\n",
    "    \n",
    "    # Extract links that match the criteria for Yellow and Green taxi trip records\n",
    "    # We're assuming that the links containing either 'yellow' or 'green' and ending with '.parquet' are the ones you're looking for.\n",
    "    links = soup.find_all('a', href=True)\n",
    "    taxi_links = [link['href'] for link in links if ('yellow' in link['href'].lower() or 'green' in link['href'].lower()) and link['href'].endswith('.parquet')]\n",
    "    \n",
    "    return taxi_links\n",
    "\n",
    "# Example usage:\n",
    "taxi_data_links = find_taxi_parquet_links()\n",
    "print(taxi_data_links)\n"
   ]
  },
  {
   "cell_type": "code",
   "execution_count": 21,
   "id": "df3498dc",
   "metadata": {
    "deletable": false,
    "editable": false,
    "nbgrader": {
     "cell_type": "code",
     "checksum": "938e787ddb54332e658454b529969679",
     "grade": true,
     "grade_id": "cell-0be6baa36c71e6c8",
     "locked": true,
     "points": 0.5,
     "schema_version": 3,
     "solution": false,
     "task": false
    }
   },
   "outputs": [],
   "source": [
    "### BEGIN TESTS\n",
    "\n",
    "result = find_taxi_parquet_links()\n",
    "\n",
    "# Ensure the returned results are the expected type,\n",
    "assert isinstance(result, list)\n",
    "assert len(result) > 0\n",
    "assert isinstance(result[0], str)\n",
    "\n",
    "# Ensure the number of returned results;\n",
    "# Since they regularly update the site with new monthly data,\n",
    "# this is only a rough approximation.\n",
    "assert len(result) >= 290\n",
    "assert len(result) < 330\n",
    "\n",
    "### END TESTS"
   ]
  },
  {
   "cell_type": "code",
   "execution_count": 22,
   "id": "353093e5",
   "metadata": {
    "deletable": false,
    "editable": false,
    "nbgrader": {
     "cell_type": "code",
     "checksum": "06f1fb15340547b391a50bb6317af748",
     "grade": true,
     "grade_id": "cell-148e25e60d4a2663",
     "locked": true,
     "points": 1,
     "schema_version": 3,
     "solution": false,
     "task": false
    }
   },
   "outputs": [],
   "source": [
    "# CELL INTENTIONALLY LEFT BLANK - DO NOT ALTER OR DELETE"
   ]
  },
  {
   "cell_type": "code",
   "execution_count": 23,
   "id": "e412c051",
   "metadata": {
    "deletable": false,
    "editable": false,
    "nbgrader": {
     "cell_type": "code",
     "checksum": "7d83f5e81d39d91106f144d8131b4a85",
     "grade": true,
     "grade_id": "cell-f029c6bb5acb0fe4",
     "locked": true,
     "points": 0.5,
     "schema_version": 3,
     "solution": false,
     "task": false
    }
   },
   "outputs": [],
   "source": [
    "# CELL INTENTIONALLY LEFT BLANK - DO NOT ALTER OR DELETE"
   ]
  }
 ],
 "metadata": {
  "kernelspec": {
   "display_name": "Python 3 (ipykernel)",
   "language": "python",
   "name": "python3"
  },
  "language_info": {
   "codemirror_mode": {
    "name": "ipython",
    "version": 3
   },
   "file_extension": ".py",
   "mimetype": "text/x-python",
   "name": "python",
   "nbconvert_exporter": "python",
   "pygments_lexer": "ipython3",
   "version": "3.11.4"
  }
 },
 "nbformat": 4,
 "nbformat_minor": 5
}
