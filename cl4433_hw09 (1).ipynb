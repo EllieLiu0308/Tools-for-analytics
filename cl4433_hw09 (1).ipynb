{
 "cells": [
  {
   "cell_type": "markdown",
   "id": "e91f6181",
   "metadata": {},
   "source": [
    "Please read the following instructions thoroughly. Neglecting to do so may result in missed points.\n",
    "\n",
    "### Preamble\n",
    "**Reminder**: Homeworks are due by 7:00PM ET on Sundays.\n",
    "\n",
    "Before you turn this problem set in, make sure everything runs as expected. First, **restart the kernel** (in the menubar, select Kernel$\\rightarrow$Restart) and then **run all cells** (in the menubar, select Cell$\\rightarrow$Run All).\n",
    "\n",
    "### Naming conventions\n",
    "Be sure the filename of your notebook is in the following form:\n",
    "\n",
    "    <uni>_<assignment>_<details [optional]>.<extension>\n",
    "    \n",
    "For example:\n",
    "\n",
    "    lr3086_hw01.ipynb\n",
    "    lr3086_hw01_complete.ipynb\n",
    "    LR3086_HW01.ipynb\n",
    "    \n",
    "To rename a notebook, in the menubar, select File$\\rightarrow$Rename. The extension for notebook files, `.ipynb`, will already be appended to the filename, but will be hidden from view within the notebook.\n",
    "    \n",
    "This naming format allows for autograding of all assignments. If your files are not named with this format, you should expect a grade of zero for the assignment.\n",
    "\n",
    "Courseworks may rename your file to something like `lr3086_hw0-1.ipynb` if you resubmit your assignment. This is perfectly fine.\n",
    "\n",
    "### What Format To Submit In\n",
    "\n",
    "Most homeworks are in Jupyter notebooks. Once you've finished your homework, unless specified otherwise, please download your work as an `.ipynb` file to your local machine, then upload it to Courseworks when complete (in the menubar, select File$\\rightarrow$Download as$\\rightarrow$Notebook).\n",
    "\n",
    "**Failure to submit a Jupyter notebook will result in a grade of zero for the assignment.**\n",
    "\n",
    "### Grading\n",
    "\n",
    "Possible points on late assignments are deducted by 50% for each day they are late. For example, if you get 80% of the total possible credits on a homework but hand in that homework a day late, you would get 40%. Assignments two days late get zero points.\n",
    "\n",
    "Once solutions are posted and graded assignments are handed back, students have 1 week to bring their grading discrepancies to a CA for consideration of possible grading errors.\n",
    "\n",
    "Because grading is automated, please delete (or comment out) the `raise NotImplmeneted` code before attempting a problem.\n",
    "\n",
    "Empty un-editable cells in an assignment are there for a reason. They will be filled with tests by the automatic grader. Please do not attempt to remove them.\n",
    "\n",
    "### Getting Help\n",
    "\n",
    "Asking for help is a great way to increase your chance of success. However there are some rules. When asking for help (especially from a fellow student), *you can show your helper your code but you can not view theirs*. You work needs to be your own. You can not post screenshots of your current work to Ed Discussions or other tools used for getting help.\n",
    "\n",
    "If you need to reach out to a CA for help, please do so via Ed Discussions and not via email. Answers given via Ed Discussions will help you as well as other students. Thus, emails will always have a lower priority for response than Ed Discussions questions. If you do email the CA, please make a note of what section you are in. This helps us identify you in Courseworks faster.\n",
    "\n",
    "Finally, if you do not get a repsonse from a CA within 48 hours, you may email the professor."
   ]
  },
  {
   "cell_type": "markdown",
   "id": "359cbf06",
   "metadata": {},
   "source": [
    "---"
   ]
  },
  {
   "cell_type": "markdown",
   "id": "891b1eed",
   "metadata": {
    "deletable": false,
    "editable": false,
    "nbgrader": {
     "cell_type": "markdown",
     "checksum": "c6798a54ac5fae56c08232a6b5e9a1a7",
     "grade": false,
     "grade_id": "cell-3047f1eeb7b62026",
     "locked": true,
     "schema_version": 3,
     "solution": false,
     "task": false
    }
   },
   "source": [
    "# Homework 9: SQL\n",
    "\n",
    "Total questions: 6<br/>\n",
    "Total points: 11\n",
    "\n",
    "### FYI\n",
    "\n",
    "In Monday's lecture, we used paths on your local machine outside of the notebook to persist data. But for the homework, we use a special argument – `:memory:` – that `sqlite3` has which stores the database in-memory; in otherwords, the database will live _**only so long as you're running the notebook**_. Afterwards, it will be thrown away. Usually this argument is useful when experimenting, given that as we discussed, it is persistence that often makes databases useful. We use it here however simply to avoid needing to upload multiple files to Courseworks; everything you need is here, and it makes it far easier to grade.\n",
    "\n",
    "If, for any reason, you need to discard the contents of your database to start over, you may therefore do so by simply restarting the \"kernel\" of this notebook, which you can do by clicking the restart button in the toolbar (it's 2 buttons to the right of the \"Run\" button) or in the Kernel menu."
   ]
  },
  {
   "cell_type": "code",
   "execution_count": 21,
   "id": "56157bf1",
   "metadata": {
    "deletable": false,
    "editable": false,
    "nbgrader": {
     "cell_type": "code",
     "checksum": "49f2d4fdd9ec9cd317845f88cb30486a",
     "grade": false,
     "grade_id": "cell-99be8ab63f0726d4",
     "locked": true,
     "schema_version": 3,
     "solution": false,
     "task": false
    }
   },
   "outputs": [],
   "source": [
    "# Execute this cell before starting your homework!\n",
    "# Do not delete this cell. You will receive a 0 on this homework otherwise.\n",
    "\n",
    "import sqlite3\n",
    "\n",
    "# this is our in-memory database, not stored on your hard drive\n",
    "connection = sqlite3.connect(\":memory:\")"
   ]
  },
  {
   "cell_type": "markdown",
   "id": "53e2d463",
   "metadata": {
    "deletable": false,
    "editable": false,
    "nbgrader": {
     "cell_type": "markdown",
     "checksum": "e57842b7268ce8f874d4be0a606e5082",
     "grade": false,
     "grade_id": "cell-ddf3605e4d796063",
     "locked": true,
     "schema_version": 3,
     "solution": false,
     "task": false
    }
   },
   "source": [
    "## Question 1\n",
    "\n",
    "We'll start by creating some tables to store our data -- we'll first have one containing some product information.\n",
    "\n",
    "Our `products` table will have:\n",
    "\n",
    "* a name (`TEXT`)\n",
    "* a description (`TEXT`)\n",
    "* a unit cost stored in cents (`INTEGER`)\n",
    "\n",
    "and of course we also add an id column to identify them.\n",
    "\n",
    "The SQL statement to create each table is below. Execute it on the connection provided below to create the table.\n",
    "\n",
    "```sql\n",
    "CREATE TABLE IF NOT EXISTS products (\n",
    "    id INTEGER PRIMARY KEY,\n",
    "    name TEXT,\n",
    "    description TEXT,\n",
    "    unit_cost_cents INTEGER\n",
    ")\n",
    "```\n",
    "\n",
    "[0.5 points]"
   ]
  },
  {
   "cell_type": "code",
   "execution_count": 22,
   "id": "749e6d51",
   "metadata": {
    "deletable": false,
    "nbgrader": {
     "cell_type": "code",
     "checksum": "ef023c21fd33e5dbb504332e8f4af89b",
     "grade": false,
     "grade_id": "cell-6cb37374031fab02",
     "locked": false,
     "schema_version": 3,
     "solution": true,
     "task": false
    }
   },
   "outputs": [],
   "source": [
    "with connection:\n",
    "    connection.execute(\n",
    "        \"\"\"\n",
    "        CREATE TABLE IF NOT EXISTS products (\n",
    "            id INTEGER PRIMARY KEY,\n",
    "            name TEXT,\n",
    "            description TEXT,\n",
    "            unit_cost_cents INTEGER\n",
    "        )\n",
    "        \"\"\"\n",
    "    )"
   ]
  },
  {
   "cell_type": "code",
   "execution_count": 23,
   "id": "63b53a20",
   "metadata": {
    "deletable": false,
    "editable": false,
    "nbgrader": {
     "cell_type": "code",
     "checksum": "ffa05c2df7ccad0c4539925a732d834c",
     "grade": true,
     "grade_id": "cell-9b9a70f1448562f9",
     "locked": true,
     "points": 0,
     "schema_version": 3,
     "solution": false,
     "task": false
    }
   },
   "outputs": [],
   "source": [
    "### BEGIN TESTS\n",
    "\n",
    "# Querying SQLite to ensure the `products` table is created\n",
    "with connection:\n",
    "    result = connection.execute(\n",
    "        \"\"\"\n",
    "        SELECT name FROM sqlite_master WHERE type='table';\n",
    "        \"\"\"\n",
    "    )\n",
    "    tables = {table for table, in result}\n",
    "assert \"products\" in tables\n",
    "### END TESTS"
   ]
  },
  {
   "cell_type": "code",
   "execution_count": 24,
   "id": "c0ac2b07",
   "metadata": {
    "deletable": false,
    "editable": false,
    "nbgrader": {
     "cell_type": "code",
     "checksum": "f95502ec6507aeb6a9719f8ae343973a",
     "grade": true,
     "grade_id": "cell-9f299aebdd69ff35",
     "locked": true,
     "points": 0.5,
     "schema_version": 3,
     "solution": false,
     "task": false
    }
   },
   "outputs": [],
   "source": [
    "# CELL INTENTIONALLY LEFT BLANK - DO NOT ALTER OR DELETE"
   ]
  },
  {
   "cell_type": "markdown",
   "id": "6acbd280",
   "metadata": {
    "deletable": false,
    "editable": false,
    "nbgrader": {
     "cell_type": "markdown",
     "checksum": "36112880456b139036e6b8d8f94525ff",
     "grade": false,
     "grade_id": "cell-e72b22c4f5458c1b",
     "locked": true,
     "schema_version": 3,
     "solution": false,
     "task": false
    }
   },
   "source": [
    "## Question 2\n",
    "\n",
    "Separately, we'd like to track the number of items in stock for each product.\n",
    "\n",
    "To do so, we'll have two more tables: `stores` and `inventory`.\n",
    "\n",
    "Stores have just an `id` and a `name`. **Create this table** yourself with a similar `CREATE TABLE` statement to the above.\n",
    "\n",
    "Then, our `inventory` table should combine stores and products, listing how much of each product each store has in stock.\n",
    "\n",
    "* a `product_id` (`INTEGER`)\n",
    "* a `store_id` (`INTEGER`)\n",
    "* a `quantity` (`INTEGER`) in stock\n",
    "\n",
    "_(Note: in this case below, we actually don't need a separate `id` column because we can use the combination of `store_id` and `product_id` to identify each row. This is known as a_ composite primary key _and is another fundamental relational database concept, but can be ignored if need be for our purposes)._\n",
    "\n",
    "Here is a statement creating this table:\n",
    "\n",
    "```sql\n",
    "CREATE TABLE IF NOT EXISTS inventory (\n",
    "    product_id INTEGER NOT NULL,\n",
    "    store_id INTEGER NOT NULL,\n",
    "    quantity INTEGER,\n",
    "    FOREIGN KEY (product_id) REFERENCES products(id),\n",
    "    FOREIGN KEY (store_id) REFERENCES stores(id),\n",
    "    PRIMARY KEY (product_id, store_id)\n",
    ")\n",
    "```\n",
    "which **you need to execute as well**.\n",
    "\n",
    "[0.5 points]"
   ]
  },
  {
   "cell_type": "code",
   "execution_count": 25,
   "id": "f2404b8d",
   "metadata": {
    "deletable": false,
    "nbgrader": {
     "cell_type": "code",
     "checksum": "85c59f057ab975e9339b487e46b75718",
     "grade": false,
     "grade_id": "cell-9b7c4b5d63e43b02",
     "locked": false,
     "schema_version": 3,
     "solution": true,
     "task": false
    }
   },
   "outputs": [],
   "source": [
    "with connection:\n",
    "    # Create the 'stores' table\n",
    "    connection.execute(\n",
    "        \"\"\"\n",
    "        CREATE TABLE IF NOT EXISTS stores (\n",
    "            id INTEGER PRIMARY KEY,\n",
    "            name TEXT\n",
    "        )\n",
    "        \"\"\"\n",
    "    )\n",
    "\n",
    "    # Create the 'inventory' table\n",
    "    connection.execute(\n",
    "        \"\"\"\n",
    "        CREATE TABLE IF NOT EXISTS inventory (\n",
    "            product_id INTEGER NOT NULL,\n",
    "            store_id INTEGER NOT NULL,\n",
    "            quantity INTEGER,\n",
    "            FOREIGN KEY (product_id) REFERENCES products(id),\n",
    "            FOREIGN KEY (store_id) REFERENCES stores(id),\n",
    "            PRIMARY KEY (product_id, store_id)\n",
    "        )\n",
    "        \"\"\"\n",
    "    )\n"
   ]
  },
  {
   "cell_type": "code",
   "execution_count": 26,
   "id": "b59183c4",
   "metadata": {
    "deletable": false,
    "editable": false,
    "nbgrader": {
     "cell_type": "code",
     "checksum": "e89d51eae963e98acd29f1b65f901280",
     "grade": true,
     "grade_id": "cell-a8bdfa1944f78ff7",
     "locked": true,
     "points": 0,
     "schema_version": 3,
     "solution": false,
     "task": false
    }
   },
   "outputs": [],
   "source": [
    "# CELL INTENTIONALLY LEFT BLANK - DO NOT ALTER OR DELETE"
   ]
  },
  {
   "cell_type": "code",
   "execution_count": 27,
   "id": "260549c9",
   "metadata": {
    "deletable": false,
    "editable": false,
    "nbgrader": {
     "cell_type": "code",
     "checksum": "7288f68e7eaa353c28dfcac5beeec457",
     "grade": true,
     "grade_id": "cell-f26e9f5dbca471ad",
     "locked": true,
     "points": 0.5,
     "schema_version": 3,
     "solution": false,
     "task": false
    }
   },
   "outputs": [],
   "source": [
    "# CELL INTENTIONALLY LEFT BLANK - DO NOT ALTER OR DELETE"
   ]
  },
  {
   "cell_type": "markdown",
   "id": "2f86463a",
   "metadata": {
    "deletable": false,
    "editable": false,
    "nbgrader": {
     "cell_type": "markdown",
     "checksum": "1cecba1874f2e38f5c908ccadc6be175",
     "grade": false,
     "grade_id": "cell-7bdaf518e307d6f9",
     "locked": true,
     "schema_version": 3,
     "solution": false,
     "task": false
    }
   },
   "source": [
    "## Question 3\n",
    "\n",
    "Now we can insert some stores, products and inventory into our database.\n",
    "\n",
    "There are 2 stores -- one called `NY` and one called `NJ`. There are 2 products we are concerned with. Their names are `sneakers`, costing `$220` (remember this is dollars!) and `boots` costing `$350`. Use any description for each that you'd like. `NY` has 4 `sneakers` in stock and 3 `boots`. `NJ` has 5 `sneakers` in stock and no `boots`.\n",
    "\n",
    "Insert the above data into the tables you have created.\n",
    "\n",
    "[4 points]"
   ]
  },
  {
   "cell_type": "code",
   "execution_count": 28,
   "id": "ecc4e4cf",
   "metadata": {
    "deletable": false,
    "nbgrader": {
     "cell_type": "code",
     "checksum": "260dcfdc06ae0e112be33b6c8e7aba14",
     "grade": false,
     "grade_id": "cell-c9bc54712baa52ca",
     "locked": false,
     "schema_version": 3,
     "solution": true,
     "task": false
    }
   },
   "outputs": [],
   "source": [
    "with connection:\n",
    "    # Insert data into the 'stores' table\n",
    "    connection.execute(\"INSERT INTO stores (name) VALUES ('NY'), ('NJ')\")\n",
    "\n",
    "    # Insert data into the 'products' table\n",
    "    # Remember to convert the cost from dollars to cents\n",
    "    connection.execute(\n",
    "        \"\"\"\n",
    "        INSERT INTO products (name, description, unit_cost_cents) VALUES\n",
    "        ('sneakers', 'A comfortable pair of sneakers', 22000),\n",
    "        ('boots', 'Durable and stylish boots', 35000)\n",
    "        \"\"\"\n",
    "    )\n",
    "\n",
    "    # Insert data into the 'inventory' table\n",
    "    # Assuming the IDs for NY and NJ are 1 and 2 respectively,\n",
    "    # and the IDs for sneakers and boots are 1 and 2 respectively\n",
    "    connection.execute(\n",
    "        \"\"\"\n",
    "        INSERT INTO inventory (product_id, store_id, quantity) VALUES\n",
    "        (1, 1, 4), -- 4 sneakers in NY\n",
    "        (2, 1, 3), -- 3 boots in NY\n",
    "        (1, 2, 5), -- 5 sneakers in NJ\n",
    "        (2, 2, 0)  -- 0 boots in NJ\n",
    "        \"\"\"\n",
    "    )\n"
   ]
  },
  {
   "cell_type": "code",
   "execution_count": 29,
   "id": "5a006b19",
   "metadata": {
    "deletable": false,
    "editable": false,
    "nbgrader": {
     "cell_type": "code",
     "checksum": "269525a976a22add5ac8f5f7dae62ed3",
     "grade": true,
     "grade_id": "cell-118c7e6641484a93",
     "locked": true,
     "points": 1,
     "schema_version": 3,
     "solution": false,
     "task": false
    }
   },
   "outputs": [],
   "source": [
    "# CELL INTENTIONALLY LEFT BLANK - DO NOT ALTER OR DELETE"
   ]
  },
  {
   "cell_type": "code",
   "execution_count": 30,
   "id": "8b8c4cb7",
   "metadata": {
    "deletable": false,
    "editable": false,
    "nbgrader": {
     "cell_type": "code",
     "checksum": "c0bc4025f91b656da045a089967944e4",
     "grade": true,
     "grade_id": "cell-966bb932a2853739",
     "locked": true,
     "points": 1,
     "schema_version": 3,
     "solution": false,
     "task": false
    }
   },
   "outputs": [],
   "source": [
    "# CELL INTENTIONALLY LEFT BLANK - DO NOT ALTER OR DELETE"
   ]
  },
  {
   "cell_type": "code",
   "execution_count": 31,
   "id": "7dbc502e",
   "metadata": {
    "deletable": false,
    "editable": false,
    "nbgrader": {
     "cell_type": "code",
     "checksum": "da45da2e8edce239e1d8910bfcd2c3cf",
     "grade": true,
     "grade_id": "cell-d3af6e481157efa2",
     "locked": true,
     "points": 2,
     "schema_version": 3,
     "solution": false,
     "task": false
    }
   },
   "outputs": [],
   "source": [
    "# CELL INTENTIONALLY LEFT BLANK - DO NOT ALTER OR DELETE"
   ]
  },
  {
   "cell_type": "markdown",
   "id": "a67f08c6",
   "metadata": {
    "deletable": false,
    "editable": false,
    "nbgrader": {
     "cell_type": "markdown",
     "checksum": "095b8f6cd1a096a37044990980ae8bca",
     "grade": false,
     "grade_id": "cell-65b12d7bd0db41da",
     "locked": true,
     "schema_version": 3,
     "solution": false,
     "task": false
    }
   },
   "source": [
    "## Question 4\n",
    "\n",
    "We can of course calculate the total amount of products across all stores.\n",
    "\n",
    "Write, but do not execute! a `SELECT` query which calculates this sum and returns it as its single returned column. You'll want to use a `SQL` function called `SUM` which functions much like the `COUNT` aggregation function we used in class.\n",
    "\n",
    "Assign your query to a variable called `query`.\n",
    "\n",
    "[1.5 point]"
   ]
  },
  {
   "cell_type": "code",
   "execution_count": 32,
   "id": "5468ca6d",
   "metadata": {
    "deletable": false,
    "nbgrader": {
     "cell_type": "code",
     "checksum": "77708eacb2e0887b2987852d63293ec0",
     "grade": false,
     "grade_id": "cell-edc26d340873c79b",
     "locked": false,
     "schema_version": 3,
     "solution": true,
     "task": false
    }
   },
   "outputs": [],
   "source": [
    "query = \"\"\"\n",
    "SELECT SUM(quantity) AS total_products\n",
    "FROM inventory\n",
    "\"\"\""
   ]
  },
  {
   "cell_type": "code",
   "execution_count": 33,
   "id": "251f19d5",
   "metadata": {
    "deletable": false,
    "editable": false,
    "nbgrader": {
     "cell_type": "code",
     "checksum": "bc4b87470521c5ba3e57266fe3d29ff2",
     "grade": true,
     "grade_id": "cell-98beace8fc863f3e",
     "locked": true,
     "points": 0,
     "schema_version": 3,
     "solution": false,
     "task": false
    }
   },
   "outputs": [],
   "source": [
    "### BEGIN TESTS\n",
    "\n",
    "# Ensure variable exists\n",
    "assert query\n",
    "\n",
    "### END TESTS"
   ]
  },
  {
   "cell_type": "code",
   "execution_count": 34,
   "id": "f3dcafa0",
   "metadata": {
    "deletable": false,
    "editable": false,
    "nbgrader": {
     "cell_type": "code",
     "checksum": "173dbb1ef73019341eecbccd4a324688",
     "grade": true,
     "grade_id": "cell-782c90de27a48810",
     "locked": true,
     "points": 1,
     "schema_version": 3,
     "solution": false,
     "task": false
    }
   },
   "outputs": [],
   "source": [
    "# CELL INTENTIONALLY LEFT BLANK - DO NOT ALTER OR DELETE"
   ]
  },
  {
   "cell_type": "code",
   "execution_count": 35,
   "id": "564d89eb",
   "metadata": {
    "deletable": false,
    "editable": false,
    "nbgrader": {
     "cell_type": "code",
     "checksum": "f98eaf41f61a95551226c6f4ddf407bf",
     "grade": true,
     "grade_id": "cell-bf7419a3e7ed6815",
     "locked": true,
     "points": 0.5,
     "schema_version": 3,
     "solution": false,
     "task": false
    }
   },
   "outputs": [],
   "source": [
    "# CELL INTENTIONALLY LEFT BLANK - DO NOT ALTER OR DELETE"
   ]
  },
  {
   "cell_type": "markdown",
   "id": "0fa5ac80",
   "metadata": {
    "deletable": false,
    "editable": false,
    "nbgrader": {
     "cell_type": "markdown",
     "checksum": "39a9ff2647c8ed82b1f0e66f2a35a854",
     "grade": false,
     "grade_id": "cell-d98a4fa3e24d1311",
     "locked": true,
     "schema_version": 3,
     "solution": false,
     "task": false
    }
   },
   "source": [
    "## Question 5\n",
    "\n",
    "What about the total value _in cents_ of all products in stock? I.e. the `sum of (quantity in stock * cost of product across all products)`?\n",
    "\n",
    "Create a function called `total_current_value` which returns this `int`. You may calculate this entirely in SQL or partially in Python after retrieving the data you need from the database. You must however retrieve some of the data from the database.\n",
    "\n",
    "[1.5 points]"
   ]
  },
  {
   "cell_type": "code",
   "execution_count": 36,
   "id": "553ab0c1",
   "metadata": {
    "deletable": false,
    "nbgrader": {
     "cell_type": "code",
     "checksum": "797c2e96e38824126af90b638852d343",
     "grade": false,
     "grade_id": "cell-0bb0b05129715fbd",
     "locked": false,
     "schema_version": 3,
     "solution": true,
     "task": false
    }
   },
   "outputs": [],
   "source": [
    "def total_current_value():\n",
    "    query = \"\"\"\n",
    "    SELECT SUM(i.quantity * p.unit_cost_cents) AS total_value\n",
    "    FROM inventory i\n",
    "    JOIN products p ON i.product_id = p.id\n",
    "    \"\"\"\n",
    "    with connection:\n",
    "        result = connection.execute(query).fetchone()\n",
    "        return result[0] if result[0] is not None else 0\n",
    "\n",
    "# Usage\n",
    "actual = total_current_value()\n"
   ]
  },
  {
   "cell_type": "code",
   "execution_count": 37,
   "id": "7991b9e4",
   "metadata": {
    "deletable": false,
    "editable": false,
    "nbgrader": {
     "cell_type": "code",
     "checksum": "96c3f4d272c0ba295f0345cad43cf565",
     "grade": true,
     "grade_id": "cell-a68838652752ff28",
     "locked": true,
     "points": 1,
     "schema_version": 3,
     "solution": false,
     "task": false
    }
   },
   "outputs": [],
   "source": [
    "### BEGIN TESTS\n",
    "expected = 303_000\n",
    "actual = total_current_value()\n",
    "\n",
    "assert expected == actual, f\"\\nExpected: {expected}\\nGot: {actual}\"\n",
    "### END TESTS"
   ]
  },
  {
   "cell_type": "code",
   "execution_count": 38,
   "id": "0acd7dd5",
   "metadata": {
    "deletable": false,
    "editable": false,
    "nbgrader": {
     "cell_type": "code",
     "checksum": "38e09a25cbfb0e3d3d16a2dbd4e109c5",
     "grade": true,
     "grade_id": "cell-2d9b8bebc6ab900a",
     "locked": true,
     "points": 0.5,
     "schema_version": 3,
     "solution": false,
     "task": false
    }
   },
   "outputs": [],
   "source": [
    "# CELL INTENTIONALLY LEFT BLANK - DO NOT ALTER OR DELETE"
   ]
  },
  {
   "cell_type": "markdown",
   "id": "e1608236",
   "metadata": {
    "deletable": false,
    "editable": false,
    "nbgrader": {
     "cell_type": "markdown",
     "checksum": "747201285f39733b00c0516de8df57e3",
     "grade": false,
     "grade_id": "cell-5195017f0552d3d9",
     "locked": true,
     "schema_version": 3,
     "solution": false,
     "task": false
    }
   },
   "source": [
    "## Question 6\n",
    "\n",
    "Let's say we have a spreadsheet of historical hourly weather information:\n",
    "\n",
    "| timestamp           | station_code | temp  | conditions |\n",
    "|---------------------|--------------|-------|------------|\n",
    "| 2023-03-26 14:00:00 | 12           | 56.4  | Clear Sky  |\n",
    "| 2023-03-26 13:30:00 | 11           | 42.0  | Few Clouds |\n",
    "| 2023-03-26 13:00:00 | 12           | 55.8  | Clear Sky  |\n",
    "| 2023-03-26 12:30:00 | 11           | 41.5  | Overcast   |\n",
    "\n",
    "\n",
    "We want to put all that historical data into our database, but first: we have to create the table.\n",
    "\n",
    "Write a string that, when executed, will create a table called `hourly_weather` for our weather information. Assign that string to the variable `weather_schema`. \n",
    "\n",
    "Be sure to:\n",
    "* define & declare a primary key named `id`\n",
    "* use the column titles in the example data as column names in your schema\n",
    "* use appropriate data types for each of the columns\n",
    "* write a valid SQL statement\n",
    "* ensure that if the `CREATE` SQL statement is executed multiple times, it does not throw an exception\n",
    "\n",
    "You can assume the data types deduced in the example will _not_ change. For example, the station code will always be an integer.\n",
    "\n",
    "Refer to the first column of the table in section [3.1.1 Affinity Name Examples](https://www.sqlite.org/datatype3.html#affinity_name_examples) in SQLite's documentation for better names of data types to use other than the basics it supports. Specifically, any of the following: `INTEGER`, `FLOAT`, `REAL`, `BLOB`, `TEXT`, `BOOLEAN`, `DATE`, and `DATETIME`.\n",
    "\n",
    "[3 points]"
   ]
  },
  {
   "cell_type": "code",
   "execution_count": 39,
   "id": "219fceab",
   "metadata": {
    "deletable": false,
    "editable": false,
    "nbgrader": {
     "cell_type": "code",
     "checksum": "b8c4837bb165e0921e44850ccbc4af7b",
     "grade": false,
     "grade_id": "cell-c18338b3b24c9c87",
     "locked": true,
     "schema_version": 3,
     "solution": false,
     "task": false
    }
   },
   "outputs": [],
   "source": [
    "# Execute this cell before implementing your answer.\n",
    "# Do not delete this cell. You will receive a 0 on this homework otherwise.\n",
    "\n",
    "# make a new in-memory database\n",
    "connection = sqlite3.connect(\":memory:\")"
   ]
  },
  {
   "cell_type": "code",
   "execution_count": 40,
   "id": "77d6665a",
   "metadata": {
    "deletable": false,
    "nbgrader": {
     "cell_type": "code",
     "checksum": "26f99c2e887998e8ddea6c33037f8c02",
     "grade": false,
     "grade_id": "cell-755e9b269ab4ec2d",
     "locked": false,
     "schema_version": 3,
     "solution": true,
     "task": false
    }
   },
   "outputs": [],
   "source": [
    "weather_schema = \"\"\"\n",
    "CREATE TABLE IF NOT EXISTS hourly_weather (\n",
    "    id INTEGER PRIMARY KEY,\n",
    "    timestamp DATETIME NOT NULL,\n",
    "    station_code INTEGER NOT NULL,\n",
    "    temp REAL NOT NULL,\n",
    "    conditions TEXT NOT NULL\n",
    ")\n",
    "\"\"\"\n"
   ]
  },
  {
   "cell_type": "code",
   "execution_count": 41,
   "id": "6e5d09ef",
   "metadata": {
    "deletable": false,
    "editable": false,
    "nbgrader": {
     "cell_type": "code",
     "checksum": "53f49e81e1dc7085996f6f37fad00096",
     "grade": true,
     "grade_id": "cell-1c0f2bce935ab7c0",
     "locked": true,
     "points": 0.5,
     "schema_version": 3,
     "solution": false,
     "task": false
    }
   },
   "outputs": [],
   "source": [
    "### BEGIN TESTS\n",
    "\n",
    "# Ensure variable is defined\n",
    "assert weather_schema\n",
    "\n",
    "# Ensure valid SQL is written\n",
    "try:\n",
    "    with connection:\n",
    "        connection.execute(weather_schema)\n",
    "except Exception as e:\n",
    "    msg = f\"Got the following error when executing SQL statement: {e}\"\n",
    "    assert False, msg\n",
    "\n",
    "### END TESTS"
   ]
  },
  {
   "cell_type": "code",
   "execution_count": null,
   "id": "1273c44c",
   "metadata": {
    "deletable": false,
    "editable": false,
    "nbgrader": {
     "cell_type": "code",
     "checksum": "cb563af17689eaf75cf1b6913d184d6c",
     "grade": true,
     "grade_id": "cell-acc570db89071b07",
     "locked": true,
     "points": 0.5,
     "schema_version": 3,
     "solution": false,
     "task": false
    }
   },
   "outputs": [],
   "source": []
  },
  {
   "cell_type": "code",
   "execution_count": 42,
   "id": "e3f959be",
   "metadata": {
    "deletable": false,
    "editable": false,
    "nbgrader": {
     "cell_type": "code",
     "checksum": "73e18d5c4167f47ecb646475897b8b22",
     "grade": true,
     "grade_id": "cell-27838f4b8da7dec3",
     "locked": true,
     "points": 0.5,
     "schema_version": 3,
     "solution": false,
     "task": false
    }
   },
   "outputs": [],
   "source": [
    "### BEGIN TESTS\n",
    "\n",
    "# Ensure the table created has the expected name\n",
    "TABLE_NAME_QUERY = \"\"\"\n",
    "SELECT name \n",
    "FROM sqlite_master \n",
    "WHERE type='table' AND name NOT LIKE 'sqlite_%'\n",
    "\"\"\"\n",
    "\n",
    "with connection:\n",
    "    table, = list(connection.execute(TABLE_NAME_QUERY))\n",
    "    \n",
    "\n",
    "expected = \"hourly_weather\"\n",
    "actual = table[0]\n",
    "assert expected == actual, f\"\\nExpected: {expected}\\nGot: {actual}\"\n",
    "### END TESTS"
   ]
  },
  {
   "cell_type": "code",
   "execution_count": 43,
   "id": "54d25482",
   "metadata": {
    "deletable": false,
    "editable": false,
    "nbgrader": {
     "cell_type": "code",
     "checksum": "3c74f48ec7dc114da64ea707c0e3315c",
     "grade": true,
     "grade_id": "cell-ac252faaae64db13",
     "locked": true,
     "points": 0.5,
     "schema_version": 3,
     "solution": false,
     "task": false
    }
   },
   "outputs": [],
   "source": [
    "# CELL INTENTIONALLY LEFT BLANK - DO NOT ALTER OR DELETE"
   ]
  },
  {
   "cell_type": "code",
   "execution_count": 44,
   "id": "a26763fa",
   "metadata": {
    "deletable": false,
    "editable": false,
    "nbgrader": {
     "cell_type": "code",
     "checksum": "d0d8b2debc41d0131ad6b3c30d45f401",
     "grade": true,
     "grade_id": "cell-79c9ac069316c4fb",
     "locked": true,
     "points": 0.5,
     "schema_version": 3,
     "solution": false,
     "task": false
    }
   },
   "outputs": [],
   "source": [
    "### BEGIN TESTS\n",
    "\n",
    "# Ensure expected column names\n",
    "TABLE_NAME_QUERY = \"\"\"\n",
    "SELECT name \n",
    "FROM sqlite_master \n",
    "WHERE type='table' AND name NOT LIKE 'sqlite_%'\n",
    "\"\"\"\n",
    "with connection:\n",
    "    table, = list(connection.execute(TABLE_NAME_QUERY))\n",
    "    actual_table_name = table[0]\n",
    "    \n",
    "QUERY = f\"PRAGMA table_info({actual_table_name})\"\n",
    "\n",
    "with connection:\n",
    "    rows = list(connection.execute(QUERY))\n",
    "\n",
    "expected_column_names = sorted([\"id\", \"timestamp\", \"station_code\", \"temp\", \"conditions\"])\n",
    "actual_column_names = sorted([row[1] for row in rows])\n",
    "\n",
    "assert expected_column_names == actual_column_names, f\"Expected: {', '.join(expected_column_names)}\\nGot: {', '.join(actual_column_names)}\"\n",
    "### END TESTS"
   ]
  },
  {
   "cell_type": "code",
   "execution_count": 45,
   "id": "d83f61bc",
   "metadata": {
    "deletable": false,
    "editable": false,
    "nbgrader": {
     "cell_type": "code",
     "checksum": "88cd7e1ed220de43560f31dea06865d0",
     "grade": true,
     "grade_id": "cell-869111dcec365b87",
     "locked": true,
     "points": 0.5,
     "schema_version": 3,
     "solution": false,
     "task": false
    }
   },
   "outputs": [],
   "source": [
    "# CELL INTENTIONALLY LEFT BLANK - DO NOT ALTER OR DELETE"
   ]
  },
  {
   "cell_type": "code",
   "execution_count": 46,
   "id": "0ae69a37",
   "metadata": {
    "deletable": false,
    "editable": false,
    "nbgrader": {
     "cell_type": "code",
     "checksum": "88a135340598d98a3e837ccad65f9e16",
     "grade": true,
     "grade_id": "cell-b4ea89977cf40b5a",
     "locked": true,
     "points": 0,
     "schema_version": 3,
     "solution": false,
     "task": false
    }
   },
   "outputs": [],
   "source": [
    "# CELL INTENTIONALLY LEFT BLANK - DO NOT ALTER OR DELETE"
   ]
  },
  {
   "cell_type": "code",
   "execution_count": null,
   "id": "2010da2a",
   "metadata": {},
   "outputs": [],
   "source": []
  }
 ],
 "metadata": {
  "kernelspec": {
   "display_name": "Python 3 (ipykernel)",
   "language": "python",
   "name": "python3"
  },
  "language_info": {
   "codemirror_mode": {
    "name": "ipython",
    "version": 3
   },
   "file_extension": ".py",
   "mimetype": "text/x-python",
   "name": "python",
   "nbconvert_exporter": "python",
   "pygments_lexer": "ipython3",
   "version": "3.11.4"
  }
 },
 "nbformat": 4,
 "nbformat_minor": 5
}
